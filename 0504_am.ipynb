{
 "cells": [
  {
   "cell_type": "code",
   "execution_count": 7,
   "id": "a0d9e2a5",
   "metadata": {},
   "outputs": [
    {
     "name": "stdout",
     "output_type": "stream",
     "text": [
      "0+...+ 1 = 1\n",
      "0+...+ 2 = 3\n",
      "0+...+ 3 = 6\n",
      "0+...+ 4 = 10\n",
      "0+...+ 5 = 15\n",
      "1+2+...+5= 15\n"
     ]
    }
   ],
   "source": [
    "#1\n",
    "s=0 #0為加法返原數 1為乘法返原數\n",
    "for i in range(1,6):\n",
    "    s=s+i\n",
    "    print(\"0+...+\",i,\"=\",s) #print(\"0+...+\"+str(i)+\"=\"+str(s))\n",
    "print(\"1+2+...+5=\",s)"
   ]
  },
  {
   "cell_type": "code",
   "execution_count": 5,
   "id": "0c13ec65",
   "metadata": {},
   "outputs": [
    {
     "name": "stdout",
     "output_type": "stream",
     "text": [
      "1*2*...*5= 120\n"
     ]
    }
   ],
   "source": [
    "p=1\n",
    "for i in range(1,6):\n",
    "    p=p*i\n",
    "print(\"1*2*...*5=\",p)"
   ]
  },
  {
   "cell_type": "code",
   "execution_count": 8,
   "id": "8845d796",
   "metadata": {},
   "outputs": [
    {
     "name": "stdout",
     "output_type": "stream",
     "text": [
      "0+...+1=1\n",
      "0+...+2=3\n",
      "0+...+3=6\n",
      "0+...+4=10\n",
      "0+...+5=15\n",
      "1+2+...+5= 15\n"
     ]
    }
   ],
   "source": [
    "#2\n",
    "s=0 #0為加法返原數 1為乘法返原數\n",
    "for i in range(1,6):\n",
    "    s=s+i\n",
    "    print(\"0+...+\"+str(i)+\"=\"+str(s))\n",
    "print(\"1+2+...+5=\",s)"
   ]
  },
  {
   "cell_type": "code",
   "execution_count": 9,
   "id": "9e004b62",
   "metadata": {},
   "outputs": [
    {
     "name": "stdout",
     "output_type": "stream",
     "text": [
      "0+...+1=1\n",
      "0+...+2=3\n",
      "0+...+3=6\n",
      "0+...+4=10\n",
      "0+...+5=15\n",
      "1+2+...+5= 15\n"
     ]
    }
   ],
   "source": [
    "#3\n",
    "s=0 #0為加法返原數 1為乘法返原數\n",
    "for i in range(1,6):\n",
    "    s=s+i\n",
    "    my_output=\"0+...+\"+str(i)+\"=\"+str(s)\n",
    "    print(my_output)\n",
    "print(\"1+2+...+5=\",s)"
   ]
  },
  {
   "cell_type": "code",
   "execution_count": 11,
   "id": "4c407ae1",
   "metadata": {},
   "outputs": [
    {
     "name": "stdout",
     "output_type": "stream",
     "text": [
      "*\n",
      "**\n",
      "***\n",
      "****\n",
      "*****\n",
      "******\n"
     ]
    }
   ],
   "source": [
    "s=\"*\"\n",
    "for i in range (0,6):\n",
    "    print(s)\n",
    "    s=s+\"*\"\n"
   ]
  },
  {
   "cell_type": "code",
   "execution_count": 13,
   "id": "58ebac99",
   "metadata": {},
   "outputs": [
    {
     "name": "stdout",
     "output_type": "stream",
     "text": [
      "*\n",
      " **\n",
      "  ***\n",
      "   ****\n",
      "    *****\n",
      "     ******\n"
     ]
    }
   ],
   "source": [
    "s=\"*\"\n",
    "for i in range (0,6):\n",
    "    print(s)\n",
    "    s=\" \"+s+\"*\""
   ]
  },
  {
   "cell_type": "code",
   "execution_count": 14,
   "id": "94a3e0c7",
   "metadata": {},
   "outputs": [
    {
     "name": "stdout",
     "output_type": "stream",
     "text": [
      "0 0\n",
      "0 1\n",
      "0 2\n",
      "1 0\n",
      "1 1\n",
      "1 2\n",
      "2 0\n",
      "2 1\n",
      "2 2\n"
     ]
    }
   ],
   "source": [
    "for i in range(0,3):\n",
    "    for j in range(0,3):\n",
    "        print(i,j)"
   ]
  },
  {
   "cell_type": "code",
   "execution_count": 17,
   "id": "17c29b9e",
   "metadata": {},
   "outputs": [
    {
     "name": "stdout",
     "output_type": "stream",
     "text": [
      "0\n",
      "0 0\n",
      "0 1\n",
      "1\n",
      "1 0\n",
      "1 1\n",
      "2\n",
      "2 0\n",
      "2 1\n"
     ]
    }
   ],
   "source": [
    "for i in range(0,3):\n",
    "    print(i)\n",
    "    for j in range(0,2):\n",
    "        print(i,j)"
   ]
  },
  {
   "cell_type": "code",
   "execution_count": 27,
   "id": "fb8f5dbf",
   "metadata": {},
   "outputs": [
    {
     "name": "stdout",
     "output_type": "stream",
     "text": [
      "1 * 1 = 1\t1 * 2 = 2\t1 * 3 = 3\t1 * 4 = 4\t1 * 5 = 5\t1 * 6 = 6\t1 * 7 = 7\t1 * 8 = 8\t1 * 9 = 9\t2 * 1 = 2\t2 * 2 = 4\t2 * 3 = 6\t2 * 4 = 8\t2 * 5 = 10\t2 * 6 = 12\t2 * 7 = 14\t2 * 8 = 16\t2 * 9 = 18\t3 * 1 = 3\t3 * 2 = 6\t3 * 3 = 9\t3 * 4 = 12\t3 * 5 = 15\t3 * 6 = 18\t3 * 7 = 21\t3 * 8 = 24\t3 * 9 = 27\t4 * 1 = 4\t4 * 2 = 8\t4 * 3 = 12\t4 * 4 = 16\t4 * 5 = 20\t4 * 6 = 24\t4 * 7 = 28\t4 * 8 = 32\t4 * 9 = 36\t5 * 1 = 5\t5 * 2 = 10\t5 * 3 = 15\t5 * 4 = 20\t5 * 5 = 25\t5 * 6 = 30\t5 * 7 = 35\t5 * 8 = 40\t5 * 9 = 45\t6 * 1 = 6\t6 * 2 = 12\t6 * 3 = 18\t6 * 4 = 24\t6 * 5 = 30\t6 * 6 = 36\t6 * 7 = 42\t6 * 8 = 48\t6 * 9 = 54\t7 * 1 = 7\t7 * 2 = 14\t7 * 3 = 21\t7 * 4 = 28\t7 * 5 = 35\t7 * 6 = 42\t7 * 7 = 49\t7 * 8 = 56\t7 * 9 = 63\t8 * 1 = 8\t8 * 2 = 16\t8 * 3 = 24\t8 * 4 = 32\t8 * 5 = 40\t8 * 6 = 48\t8 * 7 = 56\t8 * 8 = 64\t8 * 9 = 72\t9 * 1 = 9\t9 * 2 = 18\t9 * 3 = 27\t9 * 4 = 36\t9 * 5 = 45\t9 * 6 = 54\t9 * 7 = 63\t9 * 8 = 72\t9 * 9 = 81\t"
     ]
    }
   ],
   "source": [
    "for i in range(1,10):\n",
    "    for j in range(1,10):\n",
    "        print(i,\"*\",j,\"=\",i*j,end=\"\\t\")"
   ]
  },
  {
   "cell_type": "code",
   "execution_count": 40,
   "id": "dbe03920",
   "metadata": {},
   "outputs": [
    {
     "name": "stdout",
     "output_type": "stream",
     "text": [
      "*\n",
      " *\n",
      "  *\n",
      "   *\n",
      "    *\n"
     ]
    }
   ],
   "source": [
    "\n",
    "for i in range(0,5):\n",
    "    for j in range(0,i):\n",
    "        print(\" \",end=\"\")\n",
    "    print(\"*\")\n",
    "    \n",
    "    "
   ]
  },
  {
   "cell_type": "code",
   "execution_count": 53,
   "id": "0b2af600",
   "metadata": {},
   "outputs": [
    {
     "name": "stdout",
     "output_type": "stream",
     "text": [
      "   *\n",
      "  ***\n",
      " *****\n",
      "*******\n"
     ]
    }
   ],
   "source": [
    "for i in range(0,4):\n",
    "    for j in range(0,3-i):\n",
    "        print(\" \",end=\"\")\n",
    "    for k in range(0,2*i+1):\n",
    "        print(\"*\",end=\"\")\n",
    "    print()   #換行"
   ]
  },
  {
   "cell_type": "code",
   "execution_count": 55,
   "id": "9f4a8d4f",
   "metadata": {},
   "outputs": [
    {
     "name": "stdout",
     "output_type": "stream",
     "text": [
      "*********\n",
      " *******\n",
      "  *****\n",
      "   ***\n",
      "    *\n"
     ]
    }
   ],
   "source": [
    "for i in range(0,5):\n",
    "    for j in range(0,i):\n",
    "        print(\" \",end=\"\")\n",
    "    for k in range(0,9-i*2):\n",
    "        print(\"*\",end=\"\")\n",
    "    print()"
   ]
  },
  {
   "cell_type": "code",
   "execution_count": 59,
   "id": "a4d1955a",
   "metadata": {},
   "outputs": [
    {
     "name": "stdout",
     "output_type": "stream",
     "text": [
      "*********\n",
      " *******\n",
      "  *****\n",
      "   ***\n",
      "    *\n"
     ]
    }
   ],
   "source": [
    "for i in range(0,5):\n",
    "    for j in range(0,i):\n",
    "        print(\" \",end=\"\")\n",
    "    print(\"*\"*(9-2*i))"
   ]
  },
  {
   "cell_type": "code",
   "execution_count": 77,
   "id": "e5ff728c",
   "metadata": {},
   "outputs": [
    {
     "name": "stdout",
     "output_type": "stream",
     "text": [
      "    1\n",
      "   222\n",
      "  33333\n",
      " 4444444\n",
      "555555555\n"
     ]
    }
   ],
   "source": [
    "for i in range(0,5):\n",
    "    for j in range(0,4-i):\n",
    "        print(\" \",end=\"\")\n",
    "    for k in range(0,2*i+1):\n",
    "        print(i+1,end=\"\")\n",
    "    print()"
   ]
  },
  {
   "cell_type": "code",
   "execution_count": 72,
   "id": "41020d12",
   "metadata": {},
   "outputs": [
    {
     "name": "stdout",
     "output_type": "stream",
     "text": [
      "    1\n",
      "   222\n",
      "  33333\n",
      " 4444444\n",
      "555555555\n"
     ]
    }
   ],
   "source": [
    "#助教解\n",
    "for i in range(0,5):\n",
    "    print(\" \"*(4-i), end=\"\")\n",
    "    print(str(i+1)*(i*2+1))"
   ]
  },
  {
   "cell_type": "code",
   "execution_count": 84,
   "id": "4c1458de",
   "metadata": {},
   "outputs": [
    {
     "name": "stdout",
     "output_type": "stream",
     "text": [
      "A\n",
      "AB\n",
      "65\n",
      "122\n",
      "A B C D E F G H I J K L M N O P Q R S T U V W X Y Z "
     ]
    }
   ],
   "source": [
    "#ASCII 65-90>A-Z 97-122>a-z\n",
    "#chr(65)>A ord('A')>65\n",
    "print(chr(65))\n",
    "print(chr(65)+chr(66))\n",
    "print(ord('A'))\n",
    "print(ord('z'))\n",
    "for i in range (65,91):\n",
    "    print(chr(i),end=\" \")"
   ]
  },
  {
   "cell_type": "code",
   "execution_count": 88,
   "id": "c6cb2d2d",
   "metadata": {},
   "outputs": [
    {
     "name": "stdout",
     "output_type": "stream",
     "text": [
      "A\n",
      "AB\n",
      "ABC\n",
      "ABCD\n",
      "ABCDE\n"
     ]
    }
   ],
   "source": [
    "s=\"\"\n",
    "for i in range (65,70):\n",
    "    x=chr(i)\n",
    "    s=s+x\n",
    "    print(s)"
   ]
  },
  {
   "cell_type": "code",
   "execution_count": 96,
   "id": "fad3123d",
   "metadata": {},
   "outputs": [
    {
     "name": "stdout",
     "output_type": "stream",
     "text": [
      "                           A \n",
      "                          A B \n",
      "                         A B C \n",
      "                        A B C D \n",
      "                       A B C D E \n",
      "                      A B C D E F \n",
      "                     A B C D E F G \n",
      "                    A B C D E F G H \n",
      "                   A B C D E F G H I \n",
      "                  A B C D E F G H I J \n",
      "                 A B C D E F G H I J K \n",
      "                A B C D E F G H I J K L \n",
      "               A B C D E F G H I J K L M \n",
      "              A B C D E F G H I J K L M N \n",
      "             A B C D E F G H I J K L M N O \n",
      "            A B C D E F G H I J K L M N O P \n",
      "           A B C D E F G H I J K L M N O P Q \n",
      "          A B C D E F G H I J K L M N O P Q R \n",
      "         A B C D E F G H I J K L M N O P Q R S \n",
      "        A B C D E F G H I J K L M N O P Q R S T \n",
      "       A B C D E F G H I J K L M N O P Q R S T U \n",
      "      A B C D E F G H I J K L M N O P Q R S T U V \n",
      "     A B C D E F G H I J K L M N O P Q R S T U V W \n",
      "    A B C D E F G H I J K L M N O P Q R S T U V W X \n",
      "   A B C D E F G H I J K L M N O P Q R S T U V W X Y \n",
      "  A B C D E F G H I J K L M N O P Q R S T U V W X Y Z \n"
     ]
    }
   ],
   "source": [
    "x=\"\"\n",
    "for i in range (65,91):\n",
    "    x=x+chr(i)+\" \"\n",
    "    print(\" \"*(91-i),x)"
   ]
  },
  {
   "cell_type": "code",
   "execution_count": 97,
   "id": "c8352bcd",
   "metadata": {},
   "outputs": [
    {
     "name": "stdout",
     "output_type": "stream",
     "text": [
      "                           C \n",
      "                          C D \n",
      "                         C D E \n",
      "                        C D E F \n",
      "                       C D E F G \n",
      "                      C D E F G H \n",
      "                     C D E F G H I \n",
      "                    C D E F G H I J \n",
      "                   C D E F G H I J K \n",
      "                  C D E F G H I J K L \n",
      "                 C D E F G H I J K L M \n",
      "                C D E F G H I J K L M N \n",
      "               C D E F G H I J K L M N O \n",
      "              C D E F G H I J K L M N O P \n",
      "             C D E F G H I J K L M N O P Q \n",
      "            C D E F G H I J K L M N O P Q R \n",
      "           C D E F G H I J K L M N O P Q R S \n",
      "          C D E F G H I J K L M N O P Q R S T \n",
      "         C D E F G H I J K L M N O P Q R S T U \n",
      "        C D E F G H I J K L M N O P Q R S T U V \n",
      "       C D E F G H I J K L M N O P Q R S T U V W \n",
      "      C D E F G H I J K L M N O P Q R S T U V W X \n",
      "     C D E F G H I J K L M N O P Q R S T U V W X Y \n",
      "    C D E F G H I J K L M N O P Q R S T U V W X Y Z \n",
      "   C D E F G H I J K L M N O P Q R S T U V W X Y Z [ \n",
      "  C D E F G H I J K L M N O P Q R S T U V W X Y Z [ \\ \n"
     ]
    }
   ],
   "source": [
    "x=\"\"\n",
    "for i in range (65,91):\n",
    "    x=x+chr(i+2)+\" \"\n",
    "    print(\" \"*(91-i),x)\n",
    "    \n",
    "  "
   ]
  },
  {
   "cell_type": "code",
   "execution_count": 98,
   "id": "6cc16dab",
   "metadata": {},
   "outputs": [
    {
     "name": "stdout",
     "output_type": "stream",
     "text": [
      "             A\n",
      "            ABC\n",
      "           ABCDE\n",
      "          ABCDEFG\n",
      "         ABCDEFGHI\n",
      "        ABCDEFGHIJK\n",
      "       ABCDEFGHIJKLM\n",
      "      ABCDEFGHIJKLMNO\n",
      "     ABCDEFGHIJKLMNOPQ\n",
      "    ABCDEFGHIJKLMNOPQRS\n",
      "   ABCDEFGHIJKLMNOPQRSTU\n",
      "  ABCDEFGHIJKLMNOPQRSTUVW\n",
      " ABCDEFGHIJKLMNOPQRSTUVWXY\n"
     ]
    }
   ],
   "source": [
    "s=chr(65)\n",
    "for i in range(0,13):\n",
    "    print(\" \"*(13-i),end=\"\")\n",
    "    print(s)\n",
    "    s=s+chr(66+i*2)+chr(67+i*2)"
   ]
  },
  {
   "cell_type": "code",
   "execution_count": 99,
   "id": "a3761184",
   "metadata": {},
   "outputs": [
    {
     "name": "stdout",
     "output_type": "stream",
     "text": [
      "             A\n",
      "            ABC\n",
      "           ABCDE\n",
      "          ABCDEFG\n",
      "         ABCDEFGHI\n",
      "        ABCDEFGHIJK\n",
      "       ABCDEFGHIJKLM\n",
      "      ABCDEFGHIJKLMNO\n",
      "     ABCDEFGHIJKLMNOPQ\n",
      "    ABCDEFGHIJKLMNOPQRS\n",
      "   ABCDEFGHIJKLMNOPQRSTU\n",
      "  ABCDEFGHIJKLMNOPQRSTUVW\n",
      " ABCDEFGHIJKLMNOPQRSTUVWXY\n"
     ]
    }
   ],
   "source": [
    "s=\"\"\n",
    "k=int\n",
    "for i in range(65,91):\n",
    "    x=chr(i)\n",
    "    s=s+x\n",
    "    if len(s)%2!=0:\n",
    "        for k in range(0,91-i,2):\n",
    "            print(\" \",end=\"\")\n",
    "        print(s)"
   ]
  },
  {
   "cell_type": "code",
   "execution_count": 100,
   "id": "b9daf239",
   "metadata": {},
   "outputs": [
    {
     "name": "stdout",
     "output_type": "stream",
     "text": [
      "            A\n",
      "           ABC\n",
      "          ABCDE\n",
      "         ABCDEFG\n",
      "        ABCDEFGHI\n",
      "       ABCDEFGHIJK\n",
      "      ABCDEFGHIJKLM\n",
      "     ABCDEFGHIJKLMNO\n",
      "    ABCDEFGHIJKLMNOPQ\n",
      "   ABCDEFGHIJKLMNOPQRS\n",
      "  ABCDEFGHIJKLMNOPQRSTU\n",
      " ABCDEFGHIJKLMNOPQRSTUVW\n"
     ]
    }
   ],
   "source": [
    "for i in range(0,12):\n",
    "    S=\"\"\n",
    "    S=S+\" \"*(12-i)\n",
    "    for j in range(65,66+2*i):\n",
    "        x=chr(j)\n",
    "        S=S+x\n",
    "    print(S)"
   ]
  },
  {
   "cell_type": "code",
   "execution_count": 101,
   "id": "7841f9ce",
   "metadata": {},
   "outputs": [
    {
     "name": "stdout",
     "output_type": "stream",
     "text": [
      "                          A \n",
      "                         A B \n",
      "                        A B C \n",
      "                       A B C D \n",
      "                      A B C D E \n",
      "                     A B C D E F \n",
      "                    A B C D E F G \n",
      "                   A B C D E F G H \n",
      "                  A B C D E F G H I \n",
      "                 A B C D E F G H I J \n",
      "                A B C D E F G H I J K \n",
      "               A B C D E F G H I J K L \n",
      "              A B C D E F G H I J K L M \n",
      "             A B C D E F G H I J K L M N \n",
      "            A B C D E F G H I J K L M N O \n",
      "           A B C D E F G H I J K L M N O P \n",
      "          A B C D E F G H I J K L M N O P Q \n",
      "         A B C D E F G H I J K L M N O P Q R \n",
      "        A B C D E F G H I J K L M N O P Q R S \n",
      "       A B C D E F G H I J K L M N O P Q R S T \n",
      "      A B C D E F G H I J K L M N O P Q R S T U \n",
      "     A B C D E F G H I J K L M N O P Q R S T U V \n",
      "    A B C D E F G H I J K L M N O P Q R S T U V W \n",
      "   A B C D E F G H I J K L M N O P Q R S T U V W X \n",
      "  A B C D E F G H I J K L M N O P Q R S T U V W X Y \n",
      " A B C D E F G H I J K L M N O P Q R S T U V W X Y Z \n"
     ]
    }
   ],
   "source": [
    "x=\"\"\n",
    "for i in range(65,91):\n",
    "  x=x+chr(i)+\" \"\n",
    "  print(\" \"*(91-i)+x)"
   ]
  },
  {
   "cell_type": "code",
   "execution_count": null,
   "id": "ce5bf63a",
   "metadata": {},
   "outputs": [],
   "source": [
    "#HW\n",
    "*******\n",
    " *****\n",
    "  ***\n",
    "   *\n",
    "   *\n",
    "  ***\n",
    " *****\n",
    "*******"
   ]
  },
  {
   "cell_type": "code",
   "execution_count": 112,
   "id": "94f9baee",
   "metadata": {},
   "outputs": [
    {
     "name": "stdout",
     "output_type": "stream",
     "text": [
      "*******\n",
      " *****\n",
      "  ***\n",
      "   *\n",
      "   *\n",
      "  ***\n",
      " *****\n",
      "*******\n"
     ]
    }
   ],
   "source": [
    "for i in range(0,4):\n",
    "    for j in range(0,i):\n",
    "        print(\" \",end=\"\")\n",
    "    print(\"*\"*(7-2*i))\n",
    "\n",
    "for i in range(0,4):\n",
    "    for k in range(0,3-i):\n",
    "        print(\" \",end=\"\")\n",
    "    print(\"*\"*(2*i+1))\n",
    "    "
   ]
  }
 ],
 "metadata": {
  "kernelspec": {
   "display_name": "Python 3 (ipykernel)",
   "language": "python",
   "name": "python3"
  },
  "language_info": {
   "codemirror_mode": {
    "name": "ipython",
    "version": 3
   },
   "file_extension": ".py",
   "mimetype": "text/x-python",
   "name": "python",
   "nbconvert_exporter": "python",
   "pygments_lexer": "ipython3",
   "version": "3.7.11"
  }
 },
 "nbformat": 4,
 "nbformat_minor": 5
}
