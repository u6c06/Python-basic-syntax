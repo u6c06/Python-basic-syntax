{
 "cells": [
  {
   "cell_type": "code",
   "execution_count": 6,
   "id": "fdc1527e",
   "metadata": {},
   "outputs": [
    {
     "name": "stdout",
     "output_type": "stream",
     "text": [
      "I WANT\n",
      "i want\n",
      "I Want\n",
      "I WaNT\n"
     ]
    }
   ],
   "source": [
    "A=\"i wAnt\"\n",
    "print(A.upper())  #全轉大寫\n",
    "print(A.lower())  #全轉小寫\n",
    "print(A.title())  #每單字第一字大寫.其他小\n",
    "print(A.swapcase())  #全互轉大小寫"
   ]
  },
  {
   "cell_type": "code",
   "execution_count": 11,
   "id": "97cf67cc",
   "metadata": {},
   "outputs": [
    {
     "name": "stdout",
     "output_type": "stream",
     "text": [
      "I Want  Your Gift\n",
      "I Want Your Gift\n",
      "I Want Your Gift\n",
      "I Want Your Gift\n",
      "I WantYour Gift\n"
     ]
    }
   ],
   "source": [
    "A=\"I Want \"\n",
    "B=\" Your Gift\"\n",
    "print(A+B)\n",
    "print(A.strip()+B)\n",
    "print(A.rstrip()+B)\n",
    "print(A+B.lstrip())\n",
    "print(A.rstrip()+B.lstrip())"
   ]
  },
  {
   "cell_type": "code",
   "execution_count": 13,
   "id": "44fd8918",
   "metadata": {},
   "outputs": [
    {
     "name": "stdout",
     "output_type": "stream",
     "text": [
      "請輸入一數:1m3\n",
      "第 0 個數是整數\n",
      "第 1 個數錯誤\n",
      "第 2 個數是整數\n"
     ]
    }
   ],
   "source": [
    "A=input(\"請輸入一數:\")\n",
    "for i,a in enumerate(A):\n",
    "    if ord(a)>=48 and ord(a)<=57:\n",
    "        print(\"第\",i,\"個數是整數\")\n",
    "    else:\n",
    "        print(\"第\",i,\"個數錯誤\")"
   ]
  },
  {
   "cell_type": "code",
   "execution_count": 14,
   "id": "3da386c5",
   "metadata": {},
   "outputs": [
    {
     "name": "stdout",
     "output_type": "stream",
     "text": [
      "請輸入一數:1m3\n",
      "第 0 個數是整數\n",
      "第 1 個數錯誤\n",
      "第 2 個數是整數\n"
     ]
    }
   ],
   "source": [
    "A=input(\"請輸入一數:\")\n",
    "number=\"0123456789\"\n",
    "for i,a in enumerate(A):\n",
    "    if a in number:\n",
    "        print(\"第\",i,\"個數是整數\")\n",
    "    else:\n",
    "        print(\"第\",i,\"個數錯誤\")\n"
   ]
  },
  {
   "cell_type": "code",
   "execution_count": null,
   "id": "a122e33d",
   "metadata": {},
   "outputs": [],
   "source": [
    "S=0  # 總合\n",
    "C=0  # 次數\n",
    "while True:\n",
    "   輸入一數(end 離開):\n",
    "   if 數入的數是 end?\n",
    "      離開迴圈 \n",
    "   else:\n",
    "      把輸入的數轉成數值\n",
    "      把輸入的數加入總合中\n",
    "      C=C+1\n",
    "平均=總合/次數\n",
    "印出總合和平均"
   ]
  },
  {
   "cell_type": "code",
   "execution_count": 17,
   "id": "136fcaaf",
   "metadata": {},
   "outputs": [
    {
     "name": "stdout",
     "output_type": "stream",
     "text": [
      "請輸入一數(end結束)123\n",
      "請輸入一數(end結束)456\n",
      "請輸入一數(end結束)789\n",
      "請輸入一數(end結束)159\n",
      "請輸入一數(end結束)753\n",
      "請輸入一數(end結束)END\n",
      "總和: 2280\n",
      "平均: 456.0\n"
     ]
    }
   ],
   "source": [
    "S=0\n",
    "C=0\n",
    "while True:\n",
    "    A=input(\"請輸入一數(end結束)\")\n",
    "    if A.lower()==\"end\":\n",
    "        break\n",
    "    else:\n",
    "        S=S+int(A)\n",
    "        C=C+1\n",
    "avg=S/C\n",
    "print(\"總和:\",S)\n",
    "print(\"平均:\",avg)\n",
    "    "
   ]
  },
  {
   "cell_type": "code",
   "execution_count": 26,
   "id": "abe75200",
   "metadata": {},
   "outputs": [
    {
     "name": "stdout",
     "output_type": "stream",
     "text": [
      "{'good': '好', 'I': '我', 'you': '你'}\n",
      "好\n",
      "{'good': '好', 'I': '我', 'you': '你', 'morning': '早上'}\n",
      "{'I': '我', 'you': '你', 'morning': '早上'}\n"
     ]
    }
   ],
   "source": [
    "#字典 新增 刪除\n",
    "D={\"good\":\"好\",\"I\":\"我\",\"you\":\"你\"}\n",
    "print(D)\n",
    "print(D[\"good\"])\n",
    "D['morning']='早上'\n",
    "print(D)\n",
    "del D['good']\n",
    "print(D)\n"
   ]
  },
  {
   "cell_type": "code",
   "execution_count": 39,
   "id": "de4e560a",
   "metadata": {},
   "outputs": [
    {
     "name": "stdout",
     "output_type": "stream",
     "text": [
      "好\n",
      "我\n",
      "你\n",
      "good\n",
      "I\n",
      "you\n",
      "好\n",
      "我\n",
      "你\n",
      "good 好\n",
      "I 我\n",
      "you 你\n",
      "英文:good  \t中文:好\n",
      "英文:I  \t中文:我\n",
      "英文:you  \t中文:你\n"
     ]
    }
   ],
   "source": [
    "D={\"good\":\"好\",\"I\":\"我\",\"you\":\"你\"}\n",
    "for d in D:\n",
    "    print(D[d])\n",
    "for k in D.keys():\n",
    "    print(k)    \n",
    "for v in D.values():\n",
    "    print(v)\n",
    "for k,v in D.items():\n",
    "    print(k,v)\n",
    "for k,v in D.items():\n",
    "    print(\"英文:{}  \\t中文:{}\".format(k,v))"
   ]
  },
  {
   "cell_type": "code",
   "execution_count": null,
   "id": "a5bd8c79",
   "metadata": {},
   "outputs": [],
   "source": [
    "Names=['張三','李四','王五','陳六']\n",
    "Pays=[30000,28000,35000,41000]\n",
    "# 使用索引的寫法\n",
    "Employ={}\n",
    "for i in range(len(Names)):\n",
    "    # key: Names[i], value=Pays[i]\n",
    "    # insert an element to Dictory: D[new key]=new value\n",
    "    Employ[Names[i]]=Pays[i]\n",
    "print(Employ)"
   ]
  },
  {
   "cell_type": "code",
   "execution_count": 40,
   "id": "ce42e64a",
   "metadata": {},
   "outputs": [
    {
     "name": "stdout",
     "output_type": "stream",
     "text": [
      "{'張三': 30000, '李四': 28000, '王五': 35000, '陳六': 41000}\n"
     ]
    }
   ],
   "source": [
    "Names=['張三','李四','王五','陳六']\n",
    "Pays=[30000,28000,35000,41000]\n",
    "Employ={}\n",
    "for i in range(len(Names)):\n",
    "    Employ[Names[i]]=Pays[i]\n",
    "print(Employ)"
   ]
  },
  {
   "cell_type": "code",
   "execution_count": null,
   "id": "831fd11b",
   "metadata": {},
   "outputs": [],
   "source": [
    "Names=['張三','李四','王五','陳六']\n",
    "Pays=[30000,28000,35000,41000]\n",
    "# 直接取用元素\n",
    "Employ={}\n",
    "for i,name in enumerate(Names):\n",
    "    # Employ[new key]=new value\n",
    "    Employ[name]=Pays[i]\n",
    "print(Employ)  "
   ]
  },
  {
   "cell_type": "code",
   "execution_count": 41,
   "id": "3dbb512e",
   "metadata": {},
   "outputs": [
    {
     "name": "stdout",
     "output_type": "stream",
     "text": [
      "{'張三': 30000, '李四': 28000, '王五': 35000, '陳六': 41000}\n"
     ]
    }
   ],
   "source": [
    "Names=['張三','李四','王五','陳六']\n",
    "Pays=[30000,28000,35000,41000]\n",
    "Employ={}\n",
    "for i,name in enumerate(Names):\n",
    "    Employ[name]=Pays[i]\n",
    "print(Employ)  "
   ]
  },
  {
   "cell_type": "code",
   "execution_count": null,
   "id": "9556a4fd",
   "metadata": {},
   "outputs": [],
   "source": [
    "Names=['張三','李四','王五','陳六']\n",
    "Pays=[30000,28000,35000,41000]\n",
    "# 使用 zip 函數\n",
    "Employ={}\n",
    "for name,pay in zip(Names, Pays):\n",
    "    Employ[name]=pay\n",
    "print(Employ)"
   ]
  },
  {
   "cell_type": "code",
   "execution_count": 42,
   "id": "ea10de74",
   "metadata": {},
   "outputs": [
    {
     "name": "stdout",
     "output_type": "stream",
     "text": [
      "{'張三': 30000, '李四': 28000, '王五': 35000, '陳六': 41000}\n"
     ]
    }
   ],
   "source": [
    "Names=['張三','李四','王五','陳六']\n",
    "Pays=[30000,28000,35000,41000]\n",
    "Employ={}\n",
    "for name,pay in zip(Names, Pays):\n",
    "    Employ[name]=pay\n",
    "print(Employ)"
   ]
  },
  {
   "cell_type": "code",
   "execution_count": null,
   "id": "d352addb",
   "metadata": {},
   "outputs": [],
   "source": [
    "Names=['張三','李四','王五','陳六']\n",
    "Pays=[30000,28000,35000,41000]\n",
    "# 使用自動生成\n",
    "Employ={name:pay for name,pay in zip(Names,Pays)}\n",
    "print(Employ)"
   ]
  },
  {
   "cell_type": "code",
   "execution_count": 44,
   "id": "9941dfad",
   "metadata": {},
   "outputs": [
    {
     "name": "stdout",
     "output_type": "stream",
     "text": [
      "{'張三': 30000, '李四': 28000, '王五': 35000, '陳六': 41000}\n"
     ]
    }
   ],
   "source": [
    "Names=['張三','李四','王五','陳六']\n",
    "Pays=[30000,28000,35000,41000]\n",
    "Employ={name:pay for name,pay in zip(Names,Pays)}\n",
    "print(Employ)"
   ]
  },
  {
   "cell_type": "code",
   "execution_count": null,
   "id": "f80a752c",
   "metadata": {},
   "outputs": [],
   "source": [
    "S=\"I am learning Python now. We are in class.\"\n",
    "# 把網路上抓下來的英文，去除 .!@, 造成字典，供後續使用\n",
    "D={0:'I',1:'am',2:'learning'....}"
   ]
  },
  {
   "cell_type": "code",
   "execution_count": 47,
   "id": "916baf24",
   "metadata": {},
   "outputs": [
    {
     "name": "stdout",
     "output_type": "stream",
     "text": [
      "['I', 'am', 'learning', 'Python', 'now', 'We', 'are', 'in', 'class']\n",
      "{0: 'I', 1: 'am', 2: 'learning', 3: 'Python', 4: 'now', 5: 'We', 6: 'are', 7: 'in', 8: 'class'}\n"
     ]
    }
   ],
   "source": [
    "S=\"I am learning Python now. We are in class.\"\n",
    "Exclude=\"!.@\"\n",
    "T=\"\"\n",
    "for s in S:\n",
    "    if s not in Exclude:\n",
    "        T=T+s\n",
    "        W=T.split(\" \")\n",
    "print(W)\n",
    "D={i:w for i,w in enumerate(W)}\n",
    "print(D)"
   ]
  },
  {
   "cell_type": "code",
   "execution_count": 49,
   "id": "ea5e08f3",
   "metadata": {},
   "outputs": [
    {
     "name": "stdout",
     "output_type": "stream",
     "text": [
      "['I', 'am', 'learning', 'Python', 'now']\n"
     ]
    }
   ],
   "source": [
    "D={0: 'I', 1: 'am', 2: 'learning', 3: 'Python', 4: 'now'}\n",
    "L=[eng for eng in D.values()]\n",
    "print(L)"
   ]
  },
  {
   "cell_type": "code",
   "execution_count": 61,
   "id": "c597faa3",
   "metadata": {},
   "outputs": [
    {
     "name": "stdout",
     "output_type": "stream",
     "text": [
      "====================\n",
      "張三先生您好:\n",
      "薪資:30000元\n",
      "年紀:29歲\n",
      "興趣:逛街\n",
      "====================\n",
      "李四女士您好:\n",
      "薪資:35000元\n",
      "年紀:28歲\n",
      "興趣:逛街\n",
      "====================\n",
      "王五先生您好:\n",
      "薪資:40000元\n",
      "年紀:33歲\n",
      "興趣:逛街\n"
     ]
    }
   ],
   "source": [
    "Persons={'張三':[30000,True,29,['打球','聽音樂']],\n",
    "         '李四':[35000,False,28,['游泳','爬山']],\n",
    "         '王五':[40000,True,33,['游泳','逛街']]}\n",
    "Sex=['女士','先生']\n",
    "for name,data in Persons.items():\n",
    "    for i,x in enumerate(data):\n",
    "        if i==0:\n",
    "            Salary=\"薪資:\"+str(x)+\"元\"\n",
    "        elif i==1:\n",
    "            Name=name+Sex[int(x)]+\"您好:\"\n",
    "        elif i==2:\n",
    "            Age=\"年紀:\"+str(x)+\"歲\"\n",
    "        else:\n",
    "            for data in Persons.values():\n",
    "                for i,h in enumerate(data[3]):\n",
    "                    Habit=\"興趣:\"+h\n",
    "    print(\"=\"*20)\n",
    "    print(Name)\n",
    "    print(Salary)\n",
    "    print(Age)\n",
    "    print(Habit)\n",
    "               "
   ]
  },
  {
   "cell_type": "code",
   "execution_count": 78,
   "id": "23e890a6",
   "metadata": {},
   "outputs": [
    {
     "name": "stdout",
     "output_type": "stream",
     "text": [
      "張三 [30000, True, 29, ['打球', '聽音樂']]\n",
      "李四 [35000, False, 28, ['游泳', '爬山']]\n",
      "王五 [40000, True, 33, ['游泳', '逛街']]\n",
      "['打球', '聽音樂']\n",
      "興趣:['打球', '聽音樂']\n",
      "['游泳', '爬山']\n",
      "興趣:['游泳', '爬山']\n",
      "['游泳', '逛街']\n",
      "興趣:['游泳', '逛街']\n"
     ]
    }
   ],
   "source": [
    "Persons={'張三':[30000,True,29,['打球','聽音樂']],\n",
    "         '李四':[35000,False,28,['游泳','爬山']],\n",
    "         '王五':[40000,True,33,['游泳','逛街']]}\n",
    "for name,data in Persons.items():\n",
    "    print(name,data)\n",
    "for data in Persons.values():\n",
    "    print(data[3])\n",
    "    Habit=\"興趣:\"+str(data[3])\n",
    "    print(Habit)"
   ]
  },
  {
   "cell_type": "code",
   "execution_count": null,
   "id": "936e73e3",
   "metadata": {},
   "outputs": [],
   "source": [
    "Exercises:\n",
    "    1. 已知字典 X={“Good”:”好”, “Desk”:”桌子”, “Thanks”:”謝謝”}\n",
    "      生成一個字典 Y, 它的內容是字典 X 的 key 及 value 對調\n",
    "    2. 已知字典 X={0:”You”, 1:“Like”, 2:“I”:”, 3:”Me”, 4:”Are”,\n",
    "                                   5:”Am”, 6: “Fine”, 7:”And”}\n",
    "     List Y=[[2,1,0],[2,5,6],[0,7,3,4,6]]\n",
    "     已知 Y 中每個元素對應字典的一句話, 請將 Y 所對應的每\n",
    "     一句話印出\n",
    "     I Like You"
   ]
  }
 ],
 "metadata": {
  "kernelspec": {
   "display_name": "Python 3 (ipykernel)",
   "language": "python",
   "name": "python3"
  },
  "language_info": {
   "codemirror_mode": {
    "name": "ipython",
    "version": 3
   },
   "file_extension": ".py",
   "mimetype": "text/x-python",
   "name": "python",
   "nbconvert_exporter": "python",
   "pygments_lexer": "ipython3",
   "version": "3.7.11"
  }
 },
 "nbformat": 4,
 "nbformat_minor": 5
}
