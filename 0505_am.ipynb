{
 "cells": [
  {
   "cell_type": "code",
   "execution_count": 3,
   "id": "81f9c8a2",
   "metadata": {},
   "outputs": [
    {
     "name": "stdout",
     "output_type": "stream",
     "text": [
      "80\n",
      "10\n",
      "5\n",
      "50\t10\t20\t80\t60\t"
     ]
    }
   ],
   "source": [
    "L=[50,10,20,80,60]\n",
    "print(max(L))\n",
    "print(min(L))\n",
    "print(len(L))\n",
    "for x in L:\n",
    "    print(x,end=\"\\t\")"
   ]
  },
  {
   "cell_type": "code",
   "execution_count": 9,
   "id": "3c5f6580",
   "metadata": {},
   "outputs": [
    {
     "name": "stdout",
     "output_type": "stream",
     "text": [
      "張三 先生\n",
      "李四 女士\n",
      "王五 女士\n",
      "陳六 先生\n"
     ]
    }
   ],
   "source": [
    "Names=['張三','李四','王五','陳六']\n",
    "Sex=[True,False,False,True]\n",
    "Title=['女士','先生']\n",
    "for i,name in enumerate(Names):\n",
    "    #print(i,Sex[i],int(Sex[i]),Title[int(Sex[i])],name)\n",
    "    print(name+\" \"+Title[int(Sex[i])])"
   ]
  },
  {
   "cell_type": "code",
   "execution_count": 12,
   "id": "057082db",
   "metadata": {},
   "outputs": [
    {
     "name": "stdout",
     "output_type": "stream",
     "text": [
      "[10, 20, 30, 40]\n",
      "[10, 15, 30, 40]\n",
      "[10, 15, 30, 40, 95]\n"
     ]
    }
   ],
   "source": [
    "L=[10,20,30,40]\n",
    "print(L)\n",
    "L[1]=15\n",
    "print(L)\n",
    "L.append(95)\n",
    "print(L)"
   ]
  },
  {
   "cell_type": "code",
   "execution_count": 13,
   "id": "722c2dd2",
   "metadata": {},
   "outputs": [
    {
     "name": "stdout",
     "output_type": "stream",
     "text": [
      "[15, 25, 35, 45]\n"
     ]
    }
   ],
   "source": [
    "L=[10,20,30,40]\n",
    "M=[]\n",
    "for x in L:\n",
    "    M.append(x+5)\n",
    "print(M)"
   ]
  },
  {
   "cell_type": "code",
   "execution_count": null,
   "id": "5751353e",
   "metadata": {},
   "outputs": [],
   "source": [
    "Names=['張三','李四','王五','陳六']\n",
    "Sex=[True,False,False,True]\n",
    "Title=['女士','先生']\n",
    "NewName=[]\n",
    "\n",
    "寫一段程式==>產生一個 NewName list\n",
    "NewName=['張三先生','李四女士','王五女士','陳六先生']\n"
   ]
  },
  {
   "cell_type": "code",
   "execution_count": 17,
   "id": "65e9ae07",
   "metadata": {},
   "outputs": [
    {
     "name": "stdout",
     "output_type": "stream",
     "text": [
      "['張三先生', '李四女士', '王五女士', '陳六先生']\n"
     ]
    }
   ],
   "source": [
    "Names=['張三','李四','王五','陳六']\n",
    "Sex=[True,False,False,True]\n",
    "Title=['女士','先生']\n",
    "NewName=[]\n",
    "for i,name in enumerate(Names):\n",
    "    #print(name+Title[int(Sex[i])])\n",
    "    NewName.append(name+Title[int(Sex[i])])\n",
    "print(NewName)"
   ]
  },
  {
   "cell_type": "code",
   "execution_count": 18,
   "id": "2b047b54",
   "metadata": {},
   "outputs": [
    {
     "name": "stdout",
     "output_type": "stream",
     "text": [
      "SUM= 150\n"
     ]
    }
   ],
   "source": [
    "L=[10,20,30,40,50]\n",
    "S=0\n",
    "for x in L:\n",
    "    S=S+x\n",
    "print(\"SUM=\",S)"
   ]
  },
  {
   "cell_type": "code",
   "execution_count": 20,
   "id": "9e99d97a",
   "metadata": {},
   "outputs": [
    {
     "name": "stdout",
     "output_type": "stream",
     "text": [
      "MAX= 80\n",
      "MIN= 10\n"
     ]
    }
   ],
   "source": [
    "L=[10,20,30,40,50,80]\n",
    "largest=-1\n",
    "smallest=10000\n",
    "for x in L:\n",
    "    if x>largest:\n",
    "        largest=x\n",
    "    if x<smallest:\n",
    "        smallest=x\n",
    "print(\"MAX=\",largest)\n",
    "print(\"MIN=\",smallest)"
   ]
  },
  {
   "cell_type": "code",
   "execution_count": 27,
   "id": "ca3df044",
   "metadata": {},
   "outputs": [
    {
     "name": "stdout",
     "output_type": "stream",
     "text": [
      "[3, 5, 15, 18, 25]\n"
     ]
    }
   ],
   "source": [
    "L=[25,18,5,15,3]\n",
    "for i in range(0,4):\n",
    "    for j in range(i+1,5):\n",
    "        if L[j]<L[i]:\n",
    "            #L[i],L[j]=L[j],L[i]  #對調 只有python可以\n",
    "            T=L[i]\n",
    "            L[i]=L[j]\n",
    "            L[j]=T\n",
    "print(L)"
   ]
  },
  {
   "cell_type": "code",
   "execution_count": 31,
   "id": "0b16079b",
   "metadata": {},
   "outputs": [
    {
     "name": "stdout",
     "output_type": "stream",
     "text": [
      "王五 27000 元\n",
      "李四 31000 元\n",
      "趙七 39000 元\n",
      "張三 42000 元\n",
      "陳六 45000 元\n"
     ]
    }
   ],
   "source": [
    "#practice\n",
    "Names=['張三','李四','王五','陳六','趙七']\n",
    "Pays=[42000,31000,27000,45000,39000]\n",
    "for i in range(0,4):\n",
    "    for j in range(i+1,5):\n",
    "        if Pays[j]<Pays[i]:\n",
    "            Pays[i],Pays[j]=Pays[j],Pays[i]\n",
    "            Names[i],Names[j]=Names[j],Names[i]\n",
    "for x,name in enumerate(Names):\n",
    "    print(name,Pays[x],\"元\")\n"
   ]
  },
  {
   "cell_type": "code",
   "execution_count": 32,
   "id": "5c96ad92",
   "metadata": {},
   "outputs": [
    {
     "name": "stdout",
     "output_type": "stream",
     "text": [
      "[3, 5, 15, 18, 25]\n"
     ]
    }
   ],
   "source": [
    "L=[25,18,5,15,3] #List專用函數 排序\n",
    "L.sort()\n",
    "print(L)"
   ]
  },
  {
   "cell_type": "code",
   "execution_count": 33,
   "id": "6b9bed7e",
   "metadata": {},
   "outputs": [
    {
     "name": "stdout",
     "output_type": "stream",
     "text": [
      "4\n",
      "2\n"
     ]
    }
   ],
   "source": [
    "L=[10,20,10,20,20,20] #List專用函數 計算出現次數\n",
    "print(L.count(20))\n",
    "print(L.count(10))"
   ]
  },
  {
   "cell_type": "code",
   "execution_count": 34,
   "id": "f5baf427",
   "metadata": {},
   "outputs": [
    {
     "name": "stdout",
     "output_type": "stream",
     "text": [
      "['I', ' ', 'a', 'm', ' ', 'a', ' ', 's', 't', 'u', 'd', 'e', 'n', 't', '.', ' ', 'Y', 'o', 'u', ' ', 'a', 'r', 'e', ' ', 'a', ' ', 't', 'e', 'a', 'c', 'h', 'e', 'r', '!', ' ', 'w', 'e', ' ', 'a', 'r', 'e', ' ', 'i', 'n', ' ', 'c', 'l', 'a', 's', 's', '.']\n"
     ]
    }
   ],
   "source": [
    "#將字串轉成字元 用於自然語言\n",
    "S=\"I am a student. You are a teacher! we are in class.\"\n",
    "L=list(S)\n",
    "print(L)"
   ]
  },
  {
   "cell_type": "code",
   "execution_count": 35,
   "id": "43516181",
   "metadata": {},
   "outputs": [
    {
     "name": "stdout",
     "output_type": "stream",
     "text": [
      "['I', 'am', 'a', 'student.', 'You', 'are', 'a', 'teacher!', 'we', 'are', 'in', 'class.']\n"
     ]
    }
   ],
   "source": [
    "#將字串轉成單字 用於自然語言\n",
    "S=\"I am a student. You are a teacher! we are in class.\"\n",
    "L=S.split(\" \")\n",
    "print(L)"
   ]
  },
  {
   "cell_type": "code",
   "execution_count": 37,
   "id": "8f644831",
   "metadata": {},
   "outputs": [
    {
     "name": "stdout",
     "output_type": "stream",
     "text": [
      "True\n",
      "False\n"
     ]
    }
   ],
   "source": [
    "#in 屬於 /not in  \n",
    "S=\"I am a student. Welcome!\"\n",
    "print(\"I\" in S)\n",
    "print(\"b\" in S)"
   ]
  },
  {
   "cell_type": "code",
   "execution_count": 39,
   "id": "f43b03f7",
   "metadata": {},
   "outputs": [
    {
     "name": "stdout",
     "output_type": "stream",
     "text": [
      "I am a student Welcome\n",
      "['I', ' ', 'a', 'm', ' ', 'a', ' ', 's', 't', 'u', 'd', 'e', 'n', 't', ' ', 'W', 'e', 'l', 'c', 'o', 'm', 'e']\n",
      "['I', 'am', 'a', 'student', 'Welcome']\n"
     ]
    }
   ],
   "source": [
    "S=\"I am a student. Welcome!\"\n",
    "Exclude=\"!.\"\n",
    "T=\"\"\n",
    "M=[]\n",
    "for s in S:\n",
    "    if s not in Exclude:\n",
    "        T=T+s\n",
    "        M.append(s)\n",
    "print(T)\n",
    "print(M)\n",
    "L=T.split(\" \")\n",
    "print(L)"
   ]
  },
  {
   "cell_type": "code",
   "execution_count": null,
   "id": "37768639",
   "metadata": {},
   "outputs": [],
   "source": [
    "Practice:\n",
    "S=\"I like this. Thank you! You are Welcome!\"\n",
    "抓出大寫字母放入 List Big 中: Big=['I',\"T\",\"Y\",\"W\"]\n",
    "抓出小寫字母放入 List Small 中: Big=['l',\"i\",\"k\",\"e\"]\n",
    "Note: 字母轉成 ASCII: ord(字母)\n",
    "Note: ord('A'):65, ord('Z')=90, ord('a')=97, ord('z')=122"
   ]
  },
  {
   "cell_type": "code",
   "execution_count": 42,
   "id": "855d3598",
   "metadata": {},
   "outputs": [
    {
     "name": "stdout",
     "output_type": "stream",
     "text": [
      "['I', 'T', 'Y']\n",
      "['l', 'i', 'k', 'e', 't', 'h', 'i', 's', 'h', 'a', 'n', 'k', 'y', 'o', 'u', 'o', 'u', 'a', 'r', 'e', 'w', 'e', 'l', 'c', 'o', 'm', 'e']\n"
     ]
    }
   ],
   "source": [
    "#practice\n",
    "S=\"I like this. Thank you! You are welcome!\"\n",
    "Big=[]\n",
    "Small=[]\n",
    "for s in S:\n",
    "    if 65<=ord(s)<=90:\n",
    "        Big.append(s)\n",
    "    if 97<=ord(s)<=122:\n",
    "        Small.append(s)\n",
    "print(Big)\n",
    "print(Small) \n",
    "\n"
   ]
  },
  {
   "cell_type": "code",
   "execution_count": 46,
   "id": "ae6817df",
   "metadata": {},
   "outputs": [
    {
     "name": "stdout",
     "output_type": "stream",
     "text": [
      "A\n",
      "B\n",
      "C\n"
     ]
    }
   ],
   "source": [
    "S=\"ABC\"\n",
    "for s in range(0,3):\n",
    "    print(S[s])"
   ]
  },
  {
   "cell_type": "code",
   "execution_count": 7,
   "id": "06eaa54e",
   "metadata": {},
   "outputs": [
    {
     "name": "stdout",
     "output_type": "stream",
     "text": [
      "請輸入三位數:123\n",
      "您的答案為: 3A0B\n"
     ]
    }
   ],
   "source": [
    "#猜數字\n",
    "Ans=\"123\"\n",
    "User=input(\"請輸入三位數:\")\n",
    "Score=\"\"\n",
    "for i in range(0,len(User)):\n",
    "    if User[i]==Ans[i]:\n",
    "        Score=Score+\"A\"\n",
    "    elif User[i] in Ans:\n",
    "        Score=Score+\"B\"\n",
    "print(\"您的答案為:\",str(Score.count('A'))+\"A\"+str(Score.count('B'))+\"B\")"
   ]
  }
 ],
 "metadata": {
  "kernelspec": {
   "display_name": "Python 3 (ipykernel)",
   "language": "python",
   "name": "python3"
  },
  "language_info": {
   "codemirror_mode": {
    "name": "ipython",
    "version": 3
   },
   "file_extension": ".py",
   "mimetype": "text/x-python",
   "name": "python",
   "nbconvert_exporter": "python",
   "pygments_lexer": "ipython3",
   "version": "3.7.11"
  }
 },
 "nbformat": 4,
 "nbformat_minor": 5
}
