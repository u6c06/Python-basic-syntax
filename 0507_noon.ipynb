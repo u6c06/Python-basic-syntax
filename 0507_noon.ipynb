{
 "cells": [
  {
   "cell_type": "code",
   "execution_count": 34,
   "id": "c7a0f42d",
   "metadata": {},
   "outputs": [
    {
     "name": "stdout",
     "output_type": "stream",
     "text": [
      "None\n",
      "王五\n"
     ]
    }
   ],
   "source": [
    "D={\"001\":\"張三\",\"002\":\"李四\",\"003\":\"王五\"}\n",
    "ans=D.get(\"004\")\n",
    "print(ans)\n",
    "ans=D.get(\"003\",\"查無此員工\")\n",
    "print(ans)"
   ]
  },
  {
   "cell_type": "code",
   "execution_count": null,
   "id": "81fd3dc1",
   "metadata": {},
   "outputs": [],
   "source": [
    "#字典管理\n",
    "D={\"Good\":\"好\"}\n",
    "while True:\n",
    "    print(\"1. 新增\\n2. 修改\\n3. 查詢\\n4. 離開\\n\")\n",
    "    choice=input(\"請輸入選項:\")\n",
    "    if choice==\"4\":\n",
    "        break\n",
    "    elif choice ==1:\n",
    "        while True: #連續新增\n",
    "            eng=input(\"請輸入英文(End 結束):\")\n",
    "            if eng.upper()=='END':\n",
    "                break\n",
    "            chi=input(\"請輸入中文:\")\n",
    "            D[eng]=chi\n",
    "            print(\"已完成新增...\")\n",
    "    elif choice ==2:\n",
    "        修改\n",
    "    elif choice ==3:\n",
    "        #D.get\n",
    "        查詢\n",
    "    else:\n",
    "        print(\"輸誤錯誤\")\n",
    "        a=input(\"請按任意鍵重新輸入\")"
   ]
  },
  {
   "cell_type": "code",
   "execution_count": null,
   "id": "97e59001",
   "metadata": {},
   "outputs": [],
   "source": [
    "# 字典管理程式\n",
    "D={\"Good\":\"好\"}\n",
    "while True:\n",
    "    print(\"1. 新增\\n2. 修改\\n3. 查詢\\n4. 離開\\n\")\n",
    "    choice=input(\"請輸入選項:\")\n",
    "    if choice==\"4\":\n",
    "        break\n",
    "    elif choice ==1:\n",
    "        while True: #連續新增\n",
    "            eng=input(\"請輸入英文(End 結束):\")\n",
    "            if eng.upper()=='END':\n",
    "                break\n",
    "            chi=input(\"請輸入中文:\")\n",
    "            D[eng]=chi\n",
    "            print(\"已完成新增...\")\n",
    "    elif choice ==2:\n",
    "        修改\n",
    "        D['Good']=\"很好\"\n",
    "    elif choice ==3:\n",
    "        # D.get"
   ]
  },
  {
   "cell_type": "code",
   "execution_count": null,
   "id": "8f8a3ba3",
   "metadata": {},
   "outputs": [],
   "source": []
  },
  {
   "cell_type": "code",
   "execution_count": 8,
   "id": "9df67757",
   "metadata": {},
   "outputs": [
    {
     "name": "stdout",
     "output_type": "stream",
     "text": [
      "主start\n",
      "副\n",
      "8\n",
      "主end\n"
     ]
    }
   ],
   "source": [
    "#副程式\n",
    "def add():\n",
    "    print(\"副\")\n",
    "    z=5+3\n",
    "    print(z)\n",
    "\n",
    "#主程式\n",
    "print(\"主start\")\n",
    "add()\n",
    "print(\"主end\")"
   ]
  },
  {
   "cell_type": "code",
   "execution_count": 10,
   "id": "6eb094f7",
   "metadata": {},
   "outputs": [
    {
     "name": "stdout",
     "output_type": "stream",
     "text": [
      "主start\n",
      "副\n",
      "12\n",
      "副\n",
      "300\n",
      "副\n",
      "11\n",
      "主end\n"
     ]
    }
   ],
   "source": [
    "#副程式\n",
    "def add(x,y):\n",
    "    print(\"副\")\n",
    "    z=x+y\n",
    "    print(z)\n",
    "\n",
    "#主程式\n",
    "print(\"主start\")\n",
    "add(10,2)\n",
    "add(100,200)\n",
    "add(5,6)\n",
    "print(\"主end\")"
   ]
  },
  {
   "cell_type": "code",
   "execution_count": 13,
   "id": "d8b058e1",
   "metadata": {},
   "outputs": [
    {
     "name": "stdout",
     "output_type": "stream",
     "text": [
      "8\n",
      "=====\n",
      "結果: 8\n"
     ]
    }
   ],
   "source": [
    "def add():\n",
    "    z=3+5\n",
    "    return(z)\n",
    "\n",
    "r=add()\n",
    "print(r)\n",
    "print(\"=\"*5)\n",
    "\n",
    "def add():\n",
    "    z=3+5\n",
    "    return(z)\n",
    "\n",
    "print(\"結果:\",add())\n"
   ]
  },
  {
   "cell_type": "code",
   "execution_count": 14,
   "id": "22ba39bc",
   "metadata": {},
   "outputs": [
    {
     "name": "stdout",
     "output_type": "stream",
     "text": [
      "17\n"
     ]
    }
   ],
   "source": [
    "def add(x,y):\n",
    "    z=x+y\n",
    "    return(z)\n",
    "\n",
    "a,b=6,11  #python style\n",
    "r=add(a,b)\n",
    "print(r)"
   ]
  },
  {
   "cell_type": "code",
   "execution_count": null,
   "id": "b143b828",
   "metadata": {},
   "outputs": [],
   "source": [
    "def computing(op,x,y):\n",
    "    if op==\"+\":\n",
    "        z=x+y\n",
    "    elif op==\"-\":\n",
    "        z=x-y\n",
    "    加入乘除,除法判斷,不可以除以0\n",
    "    return(z)\n",
    "while True:\n",
    "   列印表單\n",
    "    1. 加法\n",
    "    2. 減法\n",
    "    3. 乘法\n",
    "    4. 除法\n",
    "    5. 結束\n",
    "    若輸入為 end:\n",
    "        跳離開while 迴圈\n",
    "    依輸入進入不同的 if 處理\n",
    "       輸入一數 ==>a\n",
    "       輸入一數 ==>b\n",
    "       依選項，兩輸筆輸入資料，呼叫 computing()\n",
    "       印出結果"
   ]
  },
  {
   "cell_type": "code",
   "execution_count": 25,
   "id": "b393c9a6",
   "metadata": {},
   "outputs": [
    {
     "name": "stdout",
     "output_type": "stream",
     "text": [
      "1.加法\n",
      "2.減法\n",
      "3.乘法\n",
      "4.除法\n",
      "END.結束\n",
      "OP:END\n"
     ]
    }
   ],
   "source": [
    "def computing(op,x,y):\n",
    "    if op==\"+\":\n",
    "        z=x+y\n",
    "    elif op==\"-\":\n",
    "        z=x-y\n",
    "    elif op==\"*\":\n",
    "        z=x*y\n",
    "    elif op==\"/\":\n",
    "        if y!=0:\n",
    "            z=x/y\n",
    "        else:\n",
    "            print(\"y不可為0\")\n",
    "    return(z)\n",
    "while True:\n",
    "    print(\"1.加法\\n2.減法\\n3.乘法\\n4.除法\\nEND.結束\")\n",
    "    op=input(\"OP:\")\n",
    "    if(op.upper()==\"END\"):\n",
    "        break\n",
    "    else:\n",
    "        x=int(input(\"X:\"))\n",
    "        y=int(input(\"Y:\"))\n",
    "        print(x,op,y,\"=\",computing(op,x,y))     "
   ]
  },
  {
   "cell_type": "code",
   "execution_count": null,
   "id": "c58e18cb",
   "metadata": {},
   "outputs": [],
   "source": [
    "#老師\n",
    "def computing(op,x,y):\n",
    "    if op==\"+\":\n",
    "        z=x+y\n",
    "    elif op==\"-\":\n",
    "        z=x-y\n",
    "    elif op==\"*\":\n",
    "        z=x*y\n",
    "    else:\n",
    "        z=x/y\n",
    "    return(z)\n",
    "\n",
    "operator=['**','+','-',\"*\",\"/\"]\n",
    "# Practice\n",
    "while True:\n",
    "    print(\"1. 加法\\n2. 減法\\n3. 乘法\\n4. 除法\\n5. 結束\")\n",
    "    choice=input(\"請輸入選擇:\")\n",
    "    if choice==\"5\":\n",
    "        print(\"謝謝使用\")\n",
    "        break\n",
    "    else:\n",
    "        a=int(input(\"請輸入第一數:\"))\n",
    "        b=int(input(\"請輸入第二數:\"))\n",
    "        r=computing(operator[int(choice)],a,b)\n",
    "        print(\"結果為:\",r)\n",
    "        "
   ]
  },
  {
   "cell_type": "code",
   "execution_count": null,
   "id": "8402ca73",
   "metadata": {},
   "outputs": [],
   "source": [
    "def my_Sum(k):\n",
    "    # computing 1+2...+k\n",
    "    S=0\n",
    "    for i in range(1,k+1):\n",
    "        S=S+i\n",
    "    return(S)\n",
    "\n",
    "for j in range(5,11):\n",
    "    r=my_Sum(j)\n",
    "    print(\"1+...+{}={}\".format(j,r))"
   ]
  },
  {
   "cell_type": "code",
   "execution_count": null,
   "id": "8c58ca47",
   "metadata": {},
   "outputs": [],
   "source": [
    "寫一個副程式 P()，可以計算 1*2*...*k\n",
    "寫一個主成式，可以印出:\n",
    "    1*...*1=xx\n",
    "    1*...*2=xx\n",
    "    1*...*3=xx\n",
    "    ...\n",
    "    1*...*6=xx"
   ]
  },
  {
   "cell_type": "code",
   "execution_count": 27,
   "id": "21aa6aae",
   "metadata": {},
   "outputs": [
    {
     "name": "stdout",
     "output_type": "stream",
     "text": [
      "1*...*6=720\n"
     ]
    }
   ],
   "source": [
    "def P(k):\n",
    "    s=1\n",
    "    for i in range(1,k+1):\n",
    "        s=s*i\n",
    "    return(s)\n",
    "for j in range(1,7):\n",
    "    r=P(j)\n",
    "print(\"1*...*{}={}\".format(j,r))"
   ]
  },
  {
   "cell_type": "code",
   "execution_count": 32,
   "id": "57d651bc",
   "metadata": {},
   "outputs": [
    {
     "name": "stdout",
     "output_type": "stream",
     "text": [
      "max value is: 40\n",
      "min value is: 5\n"
     ]
    }
   ],
   "source": [
    "def my_Sum(k):\n",
    "    S=0\n",
    "    for m in M:\n",
    "        S=S+m\n",
    "    print(\"List內容為:\",M)\n",
    "    print(\"總和:\",S)\n",
    "\n",
    "def my_max_min(M):\n",
    "    largest=-1\n",
    "    smallest=10000\n",
    "    for m in M:\n",
    "        if m>largest:\n",
    "            largest=m\n",
    "        if m<smallest:\n",
    "            smallest=m\n",
    "    return(largest,smallest)\n",
    "\n",
    "L=[10,20,30,40,5,9]\n",
    "my_sum=(L)\n",
    "x,y=my_max_min(L)\n",
    "print(\"max value is:\",x)\n",
    "print(\"min value is:\",y)"
   ]
  },
  {
   "cell_type": "code",
   "execution_count": null,
   "id": "ea8e7f40",
   "metadata": {},
   "outputs": [],
   "source": [
    "z=input(\"Please input a character:\")\n",
    "asc=ord(z)\n",
    "if asc>=97 and asc<=122:\n",
    "    print(chr(asc-32))"
   ]
  },
  {
   "cell_type": "code",
   "execution_count": null,
   "id": "d0ab9f59",
   "metadata": {},
   "outputs": [],
   "source": [
    "# Exercise\n",
    "寫一個 my_Upper(字串) 副程式 ==>所有的字母轉成大寫\n",
    "寫一個 my_Upper(字串) 副程式 ==>所有的字母轉成小寫\n",
    "T=\"\"\n",
    "for s in S:"
   ]
  }
 ],
 "metadata": {
  "kernelspec": {
   "display_name": "Python 3 (ipykernel)",
   "language": "python",
   "name": "python3"
  },
  "language_info": {
   "codemirror_mode": {
    "name": "ipython",
    "version": 3
   },
   "file_extension": ".py",
   "mimetype": "text/x-python",
   "name": "python",
   "nbconvert_exporter": "python",
   "pygments_lexer": "ipython3",
   "version": "3.7.11"
  }
 },
 "nbformat": 4,
 "nbformat_minor": 5
}
