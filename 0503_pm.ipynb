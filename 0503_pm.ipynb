{
 "cells": [
  {
   "cell_type": "code",
   "execution_count": 7,
   "id": "8b8a3117",
   "metadata": {},
   "outputs": [
    {
     "name": "stdout",
     "output_type": "stream",
     "text": [
      "True\n",
      "False\n",
      "False\n",
      "False\n",
      "==========\n",
      "True\n",
      "True\n",
      "True\n",
      "False\n",
      "==========\n",
      "False\n",
      "True\n"
     ]
    }
   ],
   "source": [
    "print(True and True)\n",
    "print(True and False)\n",
    "print(False and True)\n",
    "print(False and False)\n",
    "print(\"=\"*10)\n",
    "print(True or True)\n",
    "print(True or False)\n",
    "print(False or True)\n",
    "print(False or False)\n",
    "print(\"=\"*10)\n",
    "print(not True)\n",
    "print(not False)\n"
   ]
  },
  {
   "cell_type": "code",
   "execution_count": 8,
   "id": "30ef9a74",
   "metadata": {},
   "outputs": [
    {
     "name": "stdout",
     "output_type": "stream",
     "text": [
      "False\n",
      "True\n",
      "True\n",
      "False\n",
      "False\n",
      "True\n"
     ]
    }
   ],
   "source": [
    "x=1>3\n",
    "y=5>2\n",
    "print(x and y)\n",
    "print(x or y)\n",
    "print(not x)\n",
    "print(not y)\n",
    "print((not x) and (not y))\n",
    "print((not x) or (not y))"
   ]
  },
  {
   "cell_type": "code",
   "execution_count": 17,
   "id": "ebd96515",
   "metadata": {},
   "outputs": [
    {
     "name": "stdout",
     "output_type": "stream",
     "text": [
      "未成年人\n",
      "請勿進入\n"
     ]
    }
   ],
   "source": [
    "age=10\n",
    "if age>20:\n",
    "    print(\"成年人\")\n",
    "    print(\"歡迎光臨\")\n",
    "else:\n",
    "    print(\"未成年人\")\n",
    "    print(\"請勿進入\")\n"
   ]
  },
  {
   "cell_type": "code",
   "execution_count": 28,
   "id": "a2e60887",
   "metadata": {},
   "outputs": [
    {
     "name": "stdout",
     "output_type": "stream",
     "text": [
      "請輸入年紀:75\n",
      "老年人\n",
      "歡迎光臨\n"
     ]
    }
   ],
   "source": [
    "age=int(input(\"請輸入年紀:\"))\n",
    "if age>=65:\n",
    "    print(\"老年人\")\n",
    "elif age>=40:\n",
    "    print(\"壯年人\")\n",
    "elif age>=20:\n",
    "    print(\"成年人\")\n",
    "elif age>=10:\n",
    "    print(\"青少年人\")\n",
    "else:\n",
    "    print(\"少年人\")\n",
    "print(\"歡迎光臨\")    "
   ]
  },
  {
   "cell_type": "code",
   "execution_count": 23,
   "id": "26ed726d",
   "metadata": {},
   "outputs": [
    {
     "name": "stdout",
     "output_type": "stream",
     "text": [
      "請輸入年紀:75\n",
      "老年人\n"
     ]
    }
   ],
   "source": [
    "age=int(input(\"請輸入年紀:\"))\n",
    "if age>=40:\n",
    "    if age>=65:\n",
    "        print(\"老年人\")\n",
    "    else:\n",
    "        print(\"壯年人\")\n",
    "else:\n",
    "    if age>=20:\n",
    "        print(\"成年人\")\n",
    "    elif age>=10:\n",
    "        print(\"青少年人\")\n",
    "    else:\n",
    "        print(\"少年人\")\n",
    "print(\"歡迎光臨\")     "
   ]
  },
  {
   "cell_type": "code",
   "execution_count": 29,
   "id": "2873c6cb",
   "metadata": {},
   "outputs": [
    {
     "name": "stdout",
     "output_type": "stream",
     "text": [
      "請輸入年紀:15\n",
      "青少年\n",
      "歡迎光臨\n"
     ]
    }
   ],
   "source": [
    "age=int(input(\"請輸入年紀:\"))\n",
    "if age>=40:\n",
    "    if age>=65:\n",
    "        print(\"老年人\")\n",
    "    else:\n",
    "        print(\"壯年人\")\n",
    "else:\n",
    "    if age>=20:\n",
    "        print(\"成年人\")\n",
    "    else:\n",
    "        if age>=10:\n",
    "            print(\"青少年\")\n",
    "        else:\n",
    "            print(\"少年\")\n",
    "print(\"歡迎光臨\")"
   ]
  },
  {
   "cell_type": "code",
   "execution_count": 30,
   "id": "1e6fb150",
   "metadata": {},
   "outputs": [
    {
     "name": "stdout",
     "output_type": "stream",
     "text": [
      "請輸入年紀:55\n",
      "您是: 壯年人\n",
      "您應付費: 20 元\n",
      "歡迎光臨\n"
     ]
    }
   ],
   "source": [
    "age=int(input(\"請輸入年紀:\"))\n",
    "if age>=40:\n",
    "    if age>=65:\n",
    "        role=\"老年人\"\n",
    "        rate=1\n",
    "    else:\n",
    "        role=\"壯年人\"\n",
    "        rate=2\n",
    "else:\n",
    "    if age>=20:\n",
    "        role=\"成年人\"\n",
    "        rate=3\n",
    "    else:\n",
    "        if age>=10:\n",
    "            role=\"青少年\"\n",
    "            rate=4\n",
    "        else:\n",
    "            role=\"少年\"\n",
    "            rate=5\n",
    "print(\"您是:\",role)\n",
    "print(\"您應付費:\",rate*10,\"元\")\n",
    "print(\"歡迎光臨\")"
   ]
  },
  {
   "cell_type": "code",
   "execution_count": 41,
   "id": "4a62de08",
   "metadata": {},
   "outputs": [
    {
     "name": "stdout",
     "output_type": "stream",
     "text": [
      "等級: C\n"
     ]
    }
   ],
   "source": [
    "score=78\n",
    "if score>=90:\n",
    "    gra=\"A\"\n",
    "elif 80<=score<=90:\n",
    "    gra=\"B\"\n",
    "elif 70<=score<=80:\n",
    "    gra=\"C\"\n",
    "elif 60<=score<=70:\n",
    "    gra=\"D\"\n",
    "else:\n",
    "    gra=\"E\"\n",
    "print(\"等級:\",gra)   "
   ]
  },
  {
   "cell_type": "code",
   "execution_count": 44,
   "id": "2b26df1e",
   "metadata": {},
   "outputs": [
    {
     "name": "stdout",
     "output_type": "stream",
     "text": [
      "請輸入體重:48\n",
      "請輸入身高:156\n",
      "19.72386587771203\n",
      "正常\n"
     ]
    }
   ],
   "source": [
    "W=int(input(\"請輸入體重:\"))\n",
    "H=int(input(\"請輸入身高:\"))\n",
    "BMI=W/((H/100)**2)\n",
    "\n",
    "if BMI<18.5:\n",
    "    oil=\"體重過輕\"\n",
    "elif 18.5<=BMI<24:\n",
    "    oil=\"正常\"\n",
    "elif 24<=BMI<28:\n",
    "    oil=\"超重\"\n",
    "else:\n",
    "    oil=\"肥胖\"\n",
    "\n",
    "print(BMI)\n",
    "print(oil)  \n",
    "    "
   ]
  },
  {
   "cell_type": "code",
   "execution_count": 51,
   "id": "15c57076",
   "metadata": {},
   "outputs": [
    {
     "name": "stdout",
     "output_type": "stream",
     "text": [
      "1 \tA\n",
      "3 \tA\n",
      "5 \tA\n",
      "7 \tA\n",
      "9 \tA\n"
     ]
    }
   ],
   "source": [
    "#實際i從開始值(0)到結束值減一(4)\n",
    "#也可寫 for i in range(5):\n",
    "for i in range(0,5):\n",
    "    print(2*i+1,\"\\tA\")\n",
    "    "
   ]
  },
  {
   "cell_type": "code",
   "execution_count": 54,
   "id": "24ecd035",
   "metadata": {},
   "outputs": [
    {
     "name": "stdout",
     "output_type": "stream",
     "text": [
      "<class 'int'>\n",
      "<class 'str'>\n",
      "2先生\n"
     ]
    }
   ],
   "source": [
    "i=2\n",
    "print(type(i))\n",
    "x=str(i)\n",
    "print(type(x))\n",
    "x=x+\"先生\"\n",
    "print(x)"
   ]
  },
  {
   "cell_type": "code",
   "execution_count": 56,
   "id": "ce396d25",
   "metadata": {},
   "outputs": [
    {
     "name": "stdout",
     "output_type": "stream",
     "text": [
      "這是第1次\n",
      "這是第2次\n",
      "這是第3次\n",
      "這是第4次\n",
      "這是第5次\n"
     ]
    }
   ],
   "source": [
    "for i in range(0,5):\n",
    "    x=str(i+1)\n",
    "    print(\"這是第\"+x+\"次\")"
   ]
  },
  {
   "cell_type": "code",
   "execution_count": 59,
   "id": "cc4810b6",
   "metadata": {},
   "outputs": [
    {
     "name": "stdout",
     "output_type": "stream",
     "text": [
      "請輸入第1位員工的姓名1\n",
      "第1位員工為:1\n",
      "請輸入第2位員工的姓名2\n",
      "第2位員工為:2\n",
      "請輸入第3位員工的姓名3\n",
      "第3位員工為:3\n"
     ]
    }
   ],
   "source": [
    "for i in range(0,3):\n",
    "    x=\"第\"+str(i+1)+\"位員工\"\n",
    "    y=\"請輸入\"+x+\"的姓名\"\n",
    "    name=input(y)\n",
    "    print(x+\"為:\"+name)"
   ]
  },
  {
   "cell_type": "code",
   "execution_count": 68,
   "id": "54d39cd8",
   "metadata": {},
   "outputs": [
    {
     "name": "stdout",
     "output_type": "stream",
     "text": [
      "1\n",
      "3\n",
      "5\n",
      "7\n",
      "9\n",
      "11\n",
      "13\n",
      "15\n",
      "1\n",
      "3\n",
      "5\n",
      "7\n",
      "9\n",
      "11\n",
      "13\n",
      "15\n"
     ]
    }
   ],
   "source": [
    "for i in range(0,8):\n",
    "    print(2*i+1)\n",
    "for i in range(0,16,2):\n",
    "    print(i+1)"
   ]
  }
 ],
 "metadata": {
  "kernelspec": {
   "display_name": "Python 3 (ipykernel)",
   "language": "python",
   "name": "python3"
  },
  "language_info": {
   "codemirror_mode": {
    "name": "ipython",
    "version": 3
   },
   "file_extension": ".py",
   "mimetype": "text/x-python",
   "name": "python",
   "nbconvert_exporter": "python",
   "pygments_lexer": "ipython3",
   "version": "3.7.11"
  }
 },
 "nbformat": 4,
 "nbformat_minor": 5
}
