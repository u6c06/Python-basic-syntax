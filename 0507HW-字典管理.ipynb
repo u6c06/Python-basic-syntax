{
 "cells": [
  {
   "cell_type": "code",
   "execution_count": 3,
   "id": "d35d5227",
   "metadata": {},
   "outputs": [
    {
     "name": "stdout",
     "output_type": "stream",
     "text": [
      "1. 新增\n",
      "2. 修改\n",
      "3. 查詢\n",
      "4. 離開\n",
      "\n",
      "請輸入選項:1\n",
      "請輸入英文 (END結束輸入):sun\n",
      "請輸入中文:月亮\n",
      "sun : 月亮\n",
      "已完成新增...\n",
      "請輸入英文 (END結束輸入):end\n",
      "1. 新增\n",
      "2. 修改\n",
      "3. 查詢\n",
      "4. 離開\n",
      "\n",
      "請輸入選項:2\n",
      "請輸入英文 (End結束輸入):sun\n",
      "請輸入中文:太陽\n",
      "sun : 太陽\n",
      "已完成修改...\n",
      "請輸入英文 (End結束輸入):end\n",
      "1. 新增\n",
      "2. 修改\n",
      "3. 查詢\n",
      "4. 離開\n",
      "\n",
      "請輸入選項:3\n",
      "請輸入英文 (End結束輸入):sun\n",
      "太陽\n",
      "已完成查詢...\n",
      "請輸入英文 (End結束輸入):end\n",
      "1. 新增\n",
      "2. 修改\n",
      "3. 查詢\n",
      "4. 離開\n",
      "\n",
      "請輸入選項:4\n"
     ]
    }
   ],
   "source": [
    "# 字典管理程式\n",
    "D={\"Good\":\"好\"}\n",
    "while True:\n",
    "    print(\"1. 新增\\n2. 修改\\n3. 查詢\\n4. 離開\\n\")\n",
    "    choice=input(\"請輸入選項:\")\n",
    "    if choice==\"4\":\n",
    "        break\n",
    "    elif choice ==\"1\":\n",
    "        while True: #連續新增\n",
    "            eng=input(\"請輸入英文 (END結束輸入):\")\n",
    "            if eng.upper()=='END':\n",
    "                break\n",
    "            chi=input(\"請輸入中文:\")\n",
    "            D[eng]=chi\n",
    "            print(eng,\":\",D[eng])\n",
    "            print(\"已完成新增...\")\n",
    "    elif choice ==\"2\":\n",
    "        while True: \n",
    "            eng=input(\"請輸入英文 (End結束輸入):\")\n",
    "            if eng.upper()=='END':\n",
    "                break\n",
    "            chi=input(\"請輸入中文:\")\n",
    "            D[eng]=chi\n",
    "            print(eng,\":\",D[eng])\n",
    "            print(\"已完成修改...\")\n",
    "    elif choice ==\"3\":\n",
    "        while True: \n",
    "            eng=input(\"請輸入英文 (End結束輸入):\")\n",
    "            if eng.upper()=='END':\n",
    "                break\n",
    "            ans=D.get(eng,\"查無此單字\")\n",
    "            print(ans)\n",
    "            print(\"已完成查詢...\")\n",
    "    else:\n",
    "        print(\"輸誤錯誤\")\n",
    "        a=input(\"請按任意鍵重新輸入\")"
   ]
  }
 ],
 "metadata": {
  "kernelspec": {
   "display_name": "Python 3 (ipykernel)",
   "language": "python",
   "name": "python3"
  },
  "language_info": {
   "codemirror_mode": {
    "name": "ipython",
    "version": 3
   },
   "file_extension": ".py",
   "mimetype": "text/x-python",
   "name": "python",
   "nbconvert_exporter": "python",
   "pygments_lexer": "ipython3",
   "version": "3.7.11"
  }
 },
 "nbformat": 4,
 "nbformat_minor": 5
}
