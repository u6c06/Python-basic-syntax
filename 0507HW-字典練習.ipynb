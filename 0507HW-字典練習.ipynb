{
 "cells": [
  {
   "cell_type": "code",
   "execution_count": 1,
   "id": "2913b0de",
   "metadata": {},
   "outputs": [
    {
     "name": "stdout",
     "output_type": "stream",
     "text": [
      "{'好': 'Good', '桌子': 'Desk', '謝謝': 'Thanks'}\n"
     ]
    }
   ],
   "source": [
    "#1\n",
    "X={\"Good\":\"好\", \"Desk\":\"桌子\", \"Thanks\":\"謝謝\"}\n",
    "Y={}\n",
    "keys=list(X.keys())\n",
    "values=list(X.values())\n",
    "\n",
    "for value,key in zip(values,keys):\n",
    "    Y[value]=key\n",
    "print(Y)"
   ]
  },
  {
   "cell_type": "code",
   "execution_count": 2,
   "id": "f6237768",
   "metadata": {},
   "outputs": [
    {
     "name": "stdout",
     "output_type": "stream",
     "text": [
      "I Like You I Am Fine You And Me Are Fine "
     ]
    }
   ],
   "source": [
    "#2\n",
    "X={0:\"You\",1:\"Like\",2:\"I\",3:\"Me\",4:\"Are\",5:\"Am\",6:\"Fine\",7:\"And\"}\n",
    "Y=[[2,1,0],[2,5,6],[0,7,3,4,6]]\n",
    "for i in range(len(Y)):\n",
    "    for j in range(len(Y[i])):\n",
    "        print(X[Y[i][j]],end=\" \")"
   ]
  }
 ],
 "metadata": {
  "kernelspec": {
   "display_name": "Python 3 (ipykernel)",
   "language": "python",
   "name": "python3"
  },
  "language_info": {
   "codemirror_mode": {
    "name": "ipython",
    "version": 3
   },
   "file_extension": ".py",
   "mimetype": "text/x-python",
   "name": "python",
   "nbconvert_exporter": "python",
   "pygments_lexer": "ipython3",
   "version": "3.7.11"
  }
 },
 "nbformat": 4,
 "nbformat_minor": 5
}
