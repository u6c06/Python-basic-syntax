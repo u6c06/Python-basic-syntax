{
 "cells": [
  {
   "cell_type": "code",
   "execution_count": 4,
   "id": "babfea54",
   "metadata": {},
   "outputs": [
    {
     "name": "stdout",
     "output_type": "stream",
     "text": [
      "['I', 'You', 'Welcome']\n",
      "['我', '你', '歡迎']\n",
      "{'I': '我', 'You': '你', 'Welcome': '歡迎'}\n"
     ]
    }
   ],
   "source": [
    "def D2L(D):\n",
    "    D={'I':'我','You':'你','Welcome':'歡迎'}\n",
    "    L1=[key for key in D.keys()]\n",
    "    L2=[value for value in D.values()]\n",
    "    return(L1,L2)\n",
    "\n",
    "def L2D(L1,L2):\n",
    "    D={key:value for key,value in zip(L1,L2)}\n",
    "    return(D)\n",
    "        \n",
    "D={'I':'我','You':'你','Welcome':'歡迎'}\n",
    "Eng,Chi=D2L(D)\n",
    "print(Eng)\n",
    "print(Chi)\n",
    "K=L2D(Eng,Chi)\n",
    "print(K)"
   ]
  },
  {
   "cell_type": "code",
   "execution_count": 7,
   "id": "e373c4cc",
   "metadata": {},
   "outputs": [
    {
     "name": "stdout",
     "output_type": "stream",
     "text": [
      "now: 5\n",
      "now: 4\n",
      "now: 3\n",
      "now: 2\n",
      "now: 1\n",
      "值 1\n",
      "值 2\n",
      "值 6\n",
      "值 24\n",
      "120\n"
     ]
    }
   ],
   "source": [
    "#遞迴程式\n",
    "def f(n):\n",
    "    print(\"now:\",n)\n",
    "    if n==1:\n",
    "        return(1)\n",
    "    x=f(n-1)\n",
    "    print(\"值\",x)\n",
    "    y=n*x\n",
    "    return(y)\n",
    "\n",
    "R=f(5)\n",
    "print(R)"
   ]
  },
  {
   "cell_type": "code",
   "execution_count": 9,
   "id": "5d8f2f7c",
   "metadata": {},
   "outputs": [
    {
     "name": "stdout",
     "output_type": "stream",
     "text": [
      "120\n"
     ]
    }
   ],
   "source": [
    "#遞迴程式\n",
    "def f(n):\n",
    "    if n==1:\n",
    "        return(1)\n",
    "    y=n*f(n-1)\n",
    "    return(y)\n",
    "\n",
    "R=f(5)\n",
    "print(R)"
   ]
  },
  {
   "cell_type": "code",
   "execution_count": 8,
   "id": "9731fc11",
   "metadata": {},
   "outputs": [
    {
     "name": "stdout",
     "output_type": "stream",
     "text": [
      "120\n"
     ]
    }
   ],
   "source": [
    "def f(n):\n",
    "    if n==1:\n",
    "        return(1)\n",
    "    return(n*f(n-1))\n",
    "\n",
    "R=f(5)\n",
    "print(R)"
   ]
  },
  {
   "cell_type": "code",
   "execution_count": 11,
   "id": "411e3df9",
   "metadata": {},
   "outputs": [
    {
     "name": "stdout",
     "output_type": "stream",
     "text": [
      "['張三女士', '李四先生', '王五女士']\n"
     ]
    }
   ],
   "source": [
    "def B2Sex(b):\n",
    "    Title=[\"女士\",\"先生\"]\n",
    "    return(Title[int(b)])\n",
    "\n",
    "Names=[\"張三\",\"李四\",\"王五\"]\n",
    "Sex=[False,True,False]\n",
    "M=[name+B2Sex(sex) for name,sex in zip(Names,Sex)]\n",
    "print(M)"
   ]
  },
  {
   "cell_type": "code",
   "execution_count": 14,
   "id": "f82f52ad",
   "metadata": {},
   "outputs": [
    {
     "name": "stdout",
     "output_type": "stream",
     "text": [
      "has-\n"
     ]
    }
   ],
   "source": [
    "#Flag 旗標 可知是否發生某條件\n",
    "L=[20,30,40,-60,12]\n",
    "Flag=False\n",
    "for num in L:\n",
    "    if num<0:\n",
    "        Flag=True\n",
    "if Flag:\n",
    "    print(\"has-\")\n",
    "else:\n",
    "    print(\"no -\")\n"
   ]
  },
  {
   "cell_type": "code",
   "execution_count": 15,
   "id": "c8e58c84",
   "metadata": {},
   "outputs": [
    {
     "name": "stdout",
     "output_type": "stream",
     "text": [
      "有1個負數\n"
     ]
    }
   ],
   "source": [
    "L=[20,30,40,-60,12]\n",
    "c=0\n",
    "for num in L:\n",
    "    if num<0:\n",
    "        c=c+1\n",
    "print(\"有{}個負數\".format(c))"
   ]
  },
  {
   "cell_type": "code",
   "execution_count": 19,
   "id": "afaafebe",
   "metadata": {},
   "outputs": [
    {
     "name": "stdout",
     "output_type": "stream",
     "text": [
      "[1, 4, 9, 16]\n",
      "[1, 4, 9, 16]\n"
     ]
    }
   ],
   "source": [
    "L=[1,2,3,4]\n",
    "mySquare=lambda x:x**2\n",
    "#1\n",
    "N=[]\n",
    "for num in L:\n",
    "    N.append(mySquare(num))\n",
    "print(N)\n",
    "#2\n",
    "M=[mySquare(num) for num in L]\n",
    "print(M)"
   ]
  },
  {
   "cell_type": "code",
   "execution_count": 21,
   "id": "258cf9e4",
   "metadata": {},
   "outputs": [
    {
     "name": "stdout",
     "output_type": "stream",
     "text": [
      "[1, 4, 9, 16]\n",
      "==========\n",
      "[1, 4, 9, 16]\n"
     ]
    }
   ],
   "source": [
    "#python stytle\n",
    "#map(函數名稱,容器)\n",
    "def f(x):\n",
    "    return(x**2)\n",
    "\n",
    "L=[1,2,3,4]\n",
    "M=list(map(f,L))\n",
    "print(M)\n",
    "\n",
    "print(\"=\"*10)\n",
    "L=[1,2,3,4]\n",
    "mySquare=lambda x:x**2\n",
    "M=list(map(mySquare,L))\n",
    "print(M)"
   ]
  },
  {
   "cell_type": "code",
   "execution_count": null,
   "id": "c1d84bb9",
   "metadata": {},
   "outputs": [],
   "source": [
    "L=[10,-20,30,-40,80]\n",
    "# 請使用一副程式 Positive(x)，代入元素，轉成正數\n",
    "def Positive(x):\n",
    "    將 x 轉成正數後傳回\n",
    "    \n",
    "Q=lambda x:??\n",
    "M=list(map(xx,xx))\n",
    "# 請寫一個 lambda 寫一個隱式的副程式 Q，傳入 x 值，傳出 x 除以10的整數\n",
    "# 利用 map 函數，將 list L 用 map 來執行 lambda Q,形成一個 list，是由L先轉正數，在除以10取得商的 list"
   ]
  },
  {
   "cell_type": "code",
   "execution_count": 26,
   "id": "40408af0",
   "metadata": {},
   "outputs": [
    {
     "name": "stdout",
     "output_type": "stream",
     "text": [
      "[1, 2, 3, 4, 8]\n"
     ]
    }
   ],
   "source": [
    "L=[10,-20,30,-40,80]\n",
    "def positive(x):\n",
    "    if x<0:\n",
    "        return(-x)\n",
    "    else:\n",
    "        return(x)\n",
    "\n",
    "Q=lambda x:int(positive(x)/10)\n",
    "M=list(map(Q,L))\n",
    "print(M)"
   ]
  },
  {
   "cell_type": "code",
   "execution_count": 38,
   "id": "df97d676",
   "metadata": {},
   "outputs": [
    {
     "name": "stdout",
     "output_type": "stream",
     "text": [
      "姓名: 張三\n",
      "年紀: 28\n",
      "姓名: 李四\n",
      "年紀: 30\n",
      "姓名: 瑪麗\n",
      "年紀: 53\n"
     ]
    }
   ],
   "source": [
    "class person:\n",
    "    Name=\"\"\n",
    "    age=20\n",
    "    def Set(self,Uname,Uage):\n",
    "        self.Name=Uname\n",
    "        self.Age=Uage\n",
    "    def Show(self):\n",
    "        print(\"姓名:\",self.Name)\n",
    "        print(\"年紀:\",self.Age)\n",
    "John=person()\n",
    "Mary=person()\n",
    "John.Set(\"張三\",28)\n",
    "Mary.Set(\"李四\",30)\n",
    "John.Show()\n",
    "Mary.Show()\n",
    "Mary.Set(\"瑪麗\",53)\n",
    "Mary.Show()"
   ]
  }
 ],
 "metadata": {
  "kernelspec": {
   "display_name": "Python 3 (ipykernel)",
   "language": "python",
   "name": "python3"
  },
  "language_info": {
   "codemirror_mode": {
    "name": "ipython",
    "version": 3
   },
   "file_extension": ".py",
   "mimetype": "text/x-python",
   "name": "python",
   "nbconvert_exporter": "python",
   "pygments_lexer": "ipython3",
   "version": "3.7.11"
  }
 },
 "nbformat": 4,
 "nbformat_minor": 5
}
