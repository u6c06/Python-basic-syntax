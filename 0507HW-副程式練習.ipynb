{
 "cells": [
  {
   "cell_type": "code",
   "execution_count": 1,
   "id": "3a209287",
   "metadata": {},
   "outputs": [
    {
     "name": "stdout",
     "output_type": "stream",
     "text": [
      "請輸入英文單字:QWE\n",
      "qwe\n"
     ]
    }
   ],
   "source": [
    "def my_Upper_lower(U):\n",
    "    w=\"\"\n",
    "    for u in U:\n",
    "        asc=ord(u)\n",
    "        if 97<=ord(u)<=122:\n",
    "            U=u.upper()\n",
    "        if 65<=ord(u)<=90:\n",
    "            U=u.lower()\n",
    "        w=w+U\n",
    "    return(w)\n",
    "        \n",
    "A=input(\"請輸入英文單字:\")\n",
    "my_Upper_lower(A)\n",
    "print(my_Upper_lower(A))"
   ]
  }
 ],
 "metadata": {
  "kernelspec": {
   "display_name": "Python 3 (ipykernel)",
   "language": "python",
   "name": "python3"
  },
  "language_info": {
   "codemirror_mode": {
    "name": "ipython",
    "version": 3
   },
   "file_extension": ".py",
   "mimetype": "text/x-python",
   "name": "python",
   "nbconvert_exporter": "python",
   "pygments_lexer": "ipython3",
   "version": "3.7.11"
  }
 },
 "nbformat": 4,
 "nbformat_minor": 5
}
