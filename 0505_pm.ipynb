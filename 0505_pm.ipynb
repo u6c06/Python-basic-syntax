{
 "cells": [
  {
   "cell_type": "code",
   "execution_count": 69,
   "id": "7bb384a4",
   "metadata": {},
   "outputs": [
    {
     "name": "stdout",
     "output_type": "stream",
     "text": [
      "請輸入三位數:123\n",
      "您的答案為: 3A0B\n"
     ]
    }
   ],
   "source": [
    "# 猜數字遊戲-老師解\n",
    "Ans=\"123\"\n",
    "User=input(\"請輸入三位數:\")\n",
    "Score=\"\"\n",
    "for i in range(0,len(User)):\n",
    "    if User[i]==Ans[i]:\n",
    "        Score=Score+\"A\"\n",
    "    elif User[i] in Ans:\n",
    "        Score=Score+\"B\"\n",
    "num_A=Score.count('A')\n",
    "num_B=Score.count('B')\n",
    "print(\"您的答案為:\",str(num_A)+\"A\"+str(num_B)+\"B\")"
   ]
  },
  {
   "cell_type": "code",
   "execution_count": null,
   "id": "8b4e72ec",
   "metadata": {},
   "outputs": [],
   "source": [
    "Ans=\"123\"\n",
    "while True:\n",
    "    User=input(\"請輸入三位數字或000結束遊戲:\")\n",
    "    Score=\"\"\n",
    "    if User==Ans:\n",
    "        print('正確答案')\n",
    "        break\n",
    "    elif User=='000':\n",
    "        print('遊戲結束')\n",
    "        break\n",
    "    else:\n",
    "        for i in range(0,len(User)):\n",
    "            if User[i]==Ans[i]:\n",
    "                Score=Score+\"A\"\n",
    "            elif User[i] in Ans:\n",
    "                Score=Score+\"B\"\n",
    "        print(str(Score.count('A'))+\"A\"+str(Score.count('B'))+\"B\")\n"
   ]
  },
  {
   "cell_type": "code",
   "execution_count": 2,
   "id": "e0f45ac1",
   "metadata": {},
   "outputs": [
    {
     "name": "stdout",
     "output_type": "stream",
     "text": [
      "['I', 'am', 'a', 'student.']\n",
      "I*am*a*student.\n"
     ]
    }
   ],
   "source": [
    "#.split  .join\n",
    "S=\"I am a student.\"\n",
    "L=S.split(\" \")\n",
    "print(L)\n",
    "s=\"*\".join(L)\n",
    "print(s)"
   ]
  },
  {
   "cell_type": "code",
   "execution_count": null,
   "id": "93d4f17e",
   "metadata": {},
   "outputs": [],
   "source": [
    "# Practice:\n",
    "S=\"Today is Sunday. We are very happy. Thank you very much!\"\n",
    "\n",
    "請寫一段程式，造出:\n",
    "ST=[\"Today is Sunday\",\"We are very happy\",\"Thank you very much\"]\n",
    "W=[\"Today\", \"is\", \"Sunday\", ....]\n",
    "C=[\"T\",\"o\",...句點和!移走]\n"
   ]
  },
  {
   "cell_type": "code",
   "execution_count": 36,
   "id": "43c315db",
   "metadata": {},
   "outputs": [
    {
     "name": "stdout",
     "output_type": "stream",
     "text": [
      "['Today is Sunday', ' We are very happy', ' Thank you very much']\n",
      "['Today', 'is', 'Sunday.', 'We', 'are', 'very', 'happy.', 'Thank', 'you', 'very', 'much']\n",
      "['T', 'o', 'd', 'a', 'y', 'i', 's', 'S', 'u', 'n', 'd', 'a', 'y', 'W', 'e', 'a', 'r', 'e', 'v', 'e', 'r', 'y', 'h', 'a', 'p', 'p', 'y', 'T', 'h', 'a', 'n', 'k', 'y', 'o', 'u', 'v', 'e', 'r', 'y', 'm', 'u', 'c', 'h']\n"
     ]
    }
   ],
   "source": [
    "#資料清洗\n",
    "S=\"Today is Sunday. We are very happy. Thank you very much!\"\n",
    "Exclude=\"!\"\n",
    "E=\"!. \"\n",
    "T=\"\"\n",
    "C=[]\n",
    "for s in S:\n",
    "    if s not in Exclude:\n",
    "        T=T+s\n",
    "        ST=T.split(\".\")\n",
    "        W=T.split(\" \")\n",
    "for i in S:\n",
    "    if i not in E:        \n",
    "        C.append(i)\n",
    "\n",
    "print(ST)\n",
    "print(W)\n",
    "print(C)"
   ]
  },
  {
   "cell_type": "code",
   "execution_count": null,
   "id": "5100be1c",
   "metadata": {},
   "outputs": [],
   "source": [
    "#HW\n",
    "S=\"I am a student. I am learning Python now. I am very happy. You are very good\"\n",
    "\n",
    "寫一個程式，依單字出現的頻率，排序，輸出如下:\n",
    "I 出現 4 次\n",
    "am 出現 4 次\n",
    "very 出現 2 次\n",
    "...\n",
    "Policy (Algorithm,演算法):\n",
    "1. 將單字轉到 list L, 只留英文\n",
    "2. 去掉 list 中重覆出現的單字 (list==>set, set==>list)\n",
    "3. 用另一個 list C 來記錄每個單字出現在 list L 中的次數 \n",
    "4. 將 C 內的元素，依大小排序，對調時，英文單字也要跟著對調之.\n",
    "5. 輸出"
   ]
  },
  {
   "cell_type": "code",
   "execution_count": 95,
   "id": "edac7683",
   "metadata": {},
   "outputs": [
    {
     "name": "stdout",
     "output_type": "stream",
     "text": [
      "['I', 'am', 'a', 'student', 'I', 'am', 'learning', 'Python', 'now', 'I', 'am', 'very', 'happy', 'You', 'are', 'very', 'good']\n",
      "{'a', 'now', 'learning', 'good', 'You', 'I', 'very', 'student', 'are', 'am', 'Python', 'happy'}\n",
      "['a', 'now', 'learning', 'good', 'You', 'I', 'very', 'student', 'are', 'am', 'Python', 'happy']\n",
      "[1, 1, 1, 1, 1, 3, 2, 1, 1, 3, 1, 1]\n",
      "12\n",
      "I 出現 3 次\n",
      "am 出現 3 次\n",
      "very 出現 2 次\n",
      "good 出現 1 次\n",
      "You 出現 1 次\n",
      "a 出現 1 次\n",
      "now 出現 1 次\n",
      "student 出現 1 次\n",
      "are 出現 1 次\n",
      "learning 出現 1 次\n",
      "Python 出現 1 次\n",
      "happy 出現 1 次\n"
     ]
    }
   ],
   "source": [
    "S=\"I am a student. I am learning Python now. I am very happy. You are very good\"\n",
    "Exclude=\".\"\n",
    "T=\"\"\n",
    "for s in S:\n",
    "    if s not in Exclude:\n",
    "        T=T+s\n",
    "        L=T.split(\" \")\n",
    "print(L)\n",
    "S=set(L)\n",
    "print(S)\n",
    "M=list(S)\n",
    "print(M)\n",
    "C=[]\n",
    "for m in M:\n",
    "    C.append(L.count(m))\n",
    "print(C)\n",
    "print(len(C))\n",
    "for i in range(0,12):\n",
    "    for j in range(i+1,12):\n",
    "        if C[j]>C[i]:\n",
    "            C[i],C[j]=C[j],C[i]\n",
    "            M[i],M[j]=M[j],M[i]\n",
    "for x,M in enumerate(M):\n",
    "    print(M,\"出現\",C[x],\"次\")"
   ]
  },
  {
   "cell_type": "code",
   "execution_count": 43,
   "id": "bc51a4de",
   "metadata": {},
   "outputs": [
    {
     "name": "stdout",
     "output_type": "stream",
     "text": [
      "{'I', 'am', 'you'}\n",
      "['I', 'am', 'you']\n",
      "[2, 2, 1]\n"
     ]
    }
   ],
   "source": [
    "L=[\"I\",\"am\",\"you\",\"I\",\"am\"]\n",
    "S=set(L)\n",
    "print(S)\n",
    "M=list(S)\n",
    "print(M)\n",
    "C=[]\n",
    "for m in M:\n",
    "    C.append(L.count(m))\n",
    "print(C)"
   ]
  },
  {
   "cell_type": "code",
   "execution_count": 58,
   "id": "bf0b2c9c",
   "metadata": {},
   "outputs": [
    {
     "name": "stdout",
     "output_type": "stream",
     "text": [
      "名: 張三 \t薪資: 25000\n",
      "名: 李四 \t薪資: 35000\n",
      "名: 王五 \t薪資: 40000\n",
      "名: 陳六 \t薪資: 45000\n"
     ]
    }
   ],
   "source": [
    "Name=['張三','李四','王五','陳六']\n",
    "Pay=[25000,35000,40000,45000]\n",
    "for name,pay in zip(Name,Pay):\n",
    "    print(\"名:\",name,\"\\t薪資:\",pay)"
   ]
  },
  {
   "cell_type": "code",
   "execution_count": 53,
   "id": "9c0dc425",
   "metadata": {},
   "outputs": [
    {
     "name": "stdout",
     "output_type": "stream",
     "text": [
      "[0, 1, 2, 3, 4]\n",
      "['A', 'B', 'C', 'D', 'E', 'F', 'G', 'H', 'I', 'J', 'K', 'L', 'M', 'N', 'O', 'P', 'Q', 'R', 'S', 'T', 'U', 'V', 'W', 'X', 'Y', 'Z']\n",
      "[0, 2, 4, 6, 8]\n"
     ]
    }
   ],
   "source": [
    "#python 用for迴圈迭代生成lits\n",
    "L=[i for i in range(0,5)]\n",
    "print(L)\n",
    "M=[chr(i) for i in range(65,91)]\n",
    "print(M)\n",
    "#L=[元素運算式 for容器 if 條件]\n",
    "L=[i for i in range(0,10) if i%2==0]\n",
    "print(L)\n"
   ]
  },
  {
   "cell_type": "code",
   "execution_count": 56,
   "id": "613cacce",
   "metadata": {},
   "outputs": [
    {
     "name": "stdout",
     "output_type": "stream",
     "text": [
      "['王五', '陳六']\n"
     ]
    }
   ],
   "source": [
    "Names=['張三','李四','王五','陳六']\n",
    "Pay=[25000,35000,40000,45000]\n",
    "Name_High=[name for i,name in enumerate(Names) if Pay[i]>=40000]\n",
    "print(Name_High)"
   ]
  },
  {
   "cell_type": "code",
   "execution_count": 59,
   "id": "f5beff78",
   "metadata": {},
   "outputs": [
    {
     "name": "stdout",
     "output_type": "stream",
     "text": [
      "[['張三', 25000], ['李四', 35000], ['王五', 40000], ['陳六', 45000]]\n"
     ]
    }
   ],
   "source": [
    "Names=['張三','李四','王五','陳六']\n",
    "Pay=[25000,35000,40000,45000]\n",
    "NP=[[name,pay] for name,pay in zip(Names,Pay)]\n",
    "print(NP)"
   ]
  },
  {
   "cell_type": "code",
   "execution_count": null,
   "id": "08edcec6",
   "metadata": {},
   "outputs": [],
   "source": [
    "Names=['張三','李四','王五','陳六']\n",
    "Pays=[25000,35000,40000,45000]\n",
    "Sex=[True, False, False, True]\n",
    "Title=['女士','先生']\n",
    "想產生一個新的 list:\n",
    "Person=[['張三',25000,'先生'],['李四',35000,'女士'],...]"
   ]
  },
  {
   "cell_type": "code",
   "execution_count": 68,
   "id": "ff4d3d96",
   "metadata": {},
   "outputs": [
    {
     "name": "stdout",
     "output_type": "stream",
     "text": [
      "[['張三', 25000, '先生'], ['李四', 35000, '女士'], ['王五', 40000, '女士'], ['陳六', 45000, '先生']]\n"
     ]
    }
   ],
   "source": [
    "Names=['張三','李四','王五','陳六']\n",
    "Pays=[25000,35000,40000,45000]\n",
    "Sex=[True, False, False, True]\n",
    "Title=['女士','先生']\n",
    "person=[[name,pay,Title[int(sex)]] for name,pay,sex in zip(Names,Pays,Sex)]\n",
    "print(person)"
   ]
  },
  {
   "cell_type": "code",
   "execution_count": 80,
   "id": "a2b3fcba",
   "metadata": {},
   "outputs": [
    {
     "name": "stdout",
     "output_type": "stream",
     "text": [
      "[[0, 0, 0], [0, 0, 0], [0, 0, 0]]\n",
      "[[0, 0, 0], [1, 1, 1], [2, 2, 2]]\n",
      "[[0, 1, 2], [0, 1, 2], [0, 1, 2]]\n",
      "[[1, 0, 0, 0, 0], [0, 1, 0, 0, 0], [0, 0, 1, 0, 0], [0, 0, 0, 1, 0], [0, 0, 0, 0, 1]]\n"
     ]
    }
   ],
   "source": [
    "L=[[0 for j in range(0,3)] for i in range(0,3)]\n",
    "print(L)\n",
    "L=[[i for j in range(0,3)] for i in range(0,3)]\n",
    "print(L)\n",
    "L=[[j for j in range(0,3)] for i in range(0,3)]\n",
    "print(L)\n",
    "L=[[int(i==j) for j in range(0,5)] for i in range(0,5)]   #one-hot code獨熱碼\n",
    "print(L)"
   ]
  },
  {
   "cell_type": "code",
   "execution_count": 83,
   "id": "b37f2b58",
   "metadata": {},
   "outputs": [
    {
     "name": "stdout",
     "output_type": "stream",
     "text": [
      "40 10 100 4\n",
      "40 10 100 4\n",
      "40 10 100 4\n"
     ]
    }
   ],
   "source": [
    "#list[] 都可以\n",
    "#set{} 內容不可重複\n",
    "#tuple() 內容不可更改\n",
    "L=[10,20,30,40]\n",
    "S={10,20,30,40}\n",
    "T=(10,20,30,40)\n",
    "print(max(L),min(L),sum(L),len(L))\n",
    "print(max(S),min(S),sum(S),len(S))\n",
    "print(max(T),min(T),sum(T),len(T))\n"
   ]
  },
  {
   "cell_type": "code",
   "execution_count": 85,
   "id": "9712619f",
   "metadata": {},
   "outputs": [
    {
     "name": "stdout",
     "output_type": "stream",
     "text": [
      "{40, 10, 50, 20, 30}\n",
      "[40, 10, 50, 20, 30]\n"
     ]
    }
   ],
   "source": [
    "L=[10,20,30,40,10,20,50]\n",
    "S=set(L)\n",
    "print(S)\n",
    "M=list(S)\n",
    "print(M)"
   ]
  }
 ],
 "metadata": {
  "kernelspec": {
   "display_name": "Python 3 (ipykernel)",
   "language": "python",
   "name": "python3"
  },
  "language_info": {
   "codemirror_mode": {
    "name": "ipython",
    "version": 3
   },
   "file_extension": ".py",
   "mimetype": "text/x-python",
   "name": "python",
   "nbconvert_exporter": "python",
   "pygments_lexer": "ipython3",
   "version": "3.7.11"
  }
 },
 "nbformat": 4,
 "nbformat_minor": 5
}
