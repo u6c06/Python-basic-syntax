{
 "cells": [
  {
   "cell_type": "code",
   "execution_count": 1,
   "id": "18c96061",
   "metadata": {},
   "outputs": [
    {
     "data": {
      "text/plain": [
       "3"
      ]
     },
     "execution_count": 1,
     "metadata": {},
     "output_type": "execute_result"
    }
   ],
   "source": [
    "1+2"
   ]
  },
  {
   "cell_type": "code",
   "execution_count": 2,
   "id": "53ca1bed",
   "metadata": {},
   "outputs": [
    {
     "data": {
      "text/plain": [
       "-1"
      ]
     },
     "execution_count": 2,
     "metadata": {},
     "output_type": "execute_result"
    }
   ],
   "source": [
    "#ctrl+enter\n",
    "2-3"
   ]
  },
  {
   "cell_type": "code",
   "execution_count": 3,
   "id": "2633539f",
   "metadata": {},
   "outputs": [
    {
     "data": {
      "text/plain": [
       "6"
      ]
     },
     "execution_count": 3,
     "metadata": {},
     "output_type": "execute_result"
    }
   ],
   "source": [
    "2*3"
   ]
  },
  {
   "cell_type": "code",
   "execution_count": 4,
   "id": "0fe92d96",
   "metadata": {},
   "outputs": [
    {
     "data": {
      "text/plain": [
       "0.6666666666666666"
      ]
     },
     "execution_count": 4,
     "metadata": {},
     "output_type": "execute_result"
    }
   ],
   "source": [
    "2/3"
   ]
  },
  {
   "cell_type": "code",
   "execution_count": 5,
   "id": "6e204713",
   "metadata": {},
   "outputs": [
    {
     "data": {
      "text/plain": [
       "2"
      ]
     },
     "execution_count": 5,
     "metadata": {},
     "output_type": "execute_result"
    }
   ],
   "source": [
    "#5除以3的餘數\n",
    "5%3"
   ]
  },
  {
   "cell_type": "code",
   "execution_count": 6,
   "id": "1c026e00",
   "metadata": {},
   "outputs": [
    {
     "data": {
      "text/plain": [
       "8"
      ]
     },
     "execution_count": 6,
     "metadata": {},
     "output_type": "execute_result"
    }
   ],
   "source": [
    "#2的3次方\n",
    "2**3"
   ]
  },
  {
   "cell_type": "code",
   "execution_count": 8,
   "id": "0d67e472",
   "metadata": {},
   "outputs": [
    {
     "name": "stdout",
     "output_type": "stream",
     "text": [
      "5 15 1\n"
     ]
    }
   ],
   "source": [
    "print(2+3,3*5,7%3)"
   ]
  },
  {
   "cell_type": "code",
   "execution_count": 9,
   "id": "6a6614e8",
   "metadata": {},
   "outputs": [
    {
     "name": "stdout",
     "output_type": "stream",
     "text": [
      "name: John\n",
      "name:John\n",
      "姓名:張三\n",
      "年紀: 26 歲\n"
     ]
    }
   ],
   "source": [
    "print(\"name:\",\"John\")\n",
    "print(\"name:John\")\n",
    "print(\"姓名:張三\")\n",
    "print(\"年紀:\",23+3,\"歲\")"
   ]
  },
  {
   "cell_type": "code",
   "execution_count": 15,
   "id": "8e7d85e6",
   "metadata": {},
   "outputs": [
    {
     "name": "stdout",
     "output_type": "stream",
     "text": [
      "True\n",
      "False\n",
      "False\n",
      "False\n",
      "True\n",
      "True\n"
     ]
    }
   ],
   "source": [
    "print(2!=3)\n",
    "print(2==3)\n",
    "print(1>3)\n",
    "print(3<1)\n",
    "print(6>=4)\n",
    "print(2<=5)"
   ]
  },
  {
   "cell_type": "code",
   "execution_count": 19,
   "id": "60b0b244",
   "metadata": {},
   "outputs": [
    {
     "name": "stdout",
     "output_type": "stream",
     "text": [
      "<class 'int'> <class 'float'> <class 'str'> <class 'bool'> <class 'bool'>\n"
     ]
    }
   ],
   "source": [
    "print(type(2),type(3.2),type(\"name\"),type(True),type(False))"
   ]
  },
  {
   "cell_type": "code",
   "execution_count": 23,
   "id": "e02cb55c",
   "metadata": {},
   "outputs": [
    {
     "name": "stdout",
     "output_type": "stream",
     "text": [
      "年紀: 26 歲\n"
     ]
    }
   ],
   "source": [
    "age=23+3\n",
    "print(\"年紀:\",age,\"歲\")"
   ]
  },
  {
   "cell_type": "code",
   "execution_count": 26,
   "id": "d8e36551",
   "metadata": {},
   "outputs": [
    {
     "name": "stdout",
     "output_type": "stream",
     "text": [
      "a= 1 b= 4\n",
      "x= 2 y= 3\n"
     ]
    }
   ],
   "source": [
    "a=1\n",
    "b=4\n",
    "print(\"a=\",a,\"b=\",b)\n",
    "x,y=2,3\n",
    "print(\"x=\",x,\"y=\",y)"
   ]
  },
  {
   "cell_type": "code",
   "execution_count": 30,
   "id": "72432f7f",
   "metadata": {},
   "outputs": [
    {
     "name": "stdout",
     "output_type": "stream",
     "text": [
      "薪資= 52000\n",
      "實際薪資= 48880.0\n"
     ]
    }
   ],
   "source": [
    "day_pay=2000\n",
    "days=26\n",
    "pay=day_pay*days\n",
    "print(\"薪資=\",pay)\n",
    "tax_rate=0.06\n",
    "tax=pay*tax_rate\n",
    "real_pay=pay-tax\n",
    "print(\"實際薪資=\",real_pay)"
   ]
  },
  {
   "cell_type": "code",
   "execution_count": 31,
   "id": "81eeb7d1",
   "metadata": {},
   "outputs": [
    {
     "name": "stdout",
     "output_type": "stream",
     "text": [
      "國文成績= 70\n",
      "英文成績= 80\n",
      "總分= 150\n",
      "平均= 75.0\n"
     ]
    }
   ],
   "source": [
    "chi=70\n",
    "eng=80\n",
    "tot=chi+eng\n",
    "avg=tot/2\n",
    "print(\"國文成績=\",chi)\n",
    "print(\"英文成績=\",eng)\n",
    "print(\"總分=\",tot)\n",
    "print(\"平均=\",avg)\n"
   ]
  },
  {
   "cell_type": "code",
   "execution_count": 35,
   "id": "70cea61f",
   "metadata": {},
   "outputs": [
    {
     "name": "stdout",
     "output_type": "stream",
     "text": [
      "aa \n",
      " bb\n",
      "aa\n",
      "bb\n",
      "aa@bb\n"
     ]
    }
   ],
   "source": [
    "print(\"aa\",\"\\n\",\"bb\")\n",
    "print(\"aa\\nbb\")\n",
    "\n",
    "print(\"aa\",end=\"@\")\n",
    "print(\"bb\")"
   ]
  },
  {
   "cell_type": "code",
   "execution_count": 42,
   "id": "12518419",
   "metadata": {},
   "outputs": [
    {
     "name": "stdout",
     "output_type": "stream",
     "text": [
      "請輸入姓名:1\n",
      "請輸入國文成績:60\n",
      "請輸入英文成績:70\n",
      "====================\n",
      "1 先生/小姐!\n",
      "國文成績= 60\n",
      "英文成績= 70\n",
      "總分= 130\n",
      "平均= 65.0\n"
     ]
    }
   ],
   "source": [
    "name=input(\"請輸入姓名:\")\n",
    "chi=int(input(\"請輸入國文成績:\"))\n",
    "eng=int(input(\"請輸入英文成績:\"))\n",
    "tot=chi+eng\n",
    "avg=tot/2\n",
    "print(\"=\"*20)\n",
    "print(name,\"先生/小姐!\")\n",
    "print(\"國文成績=\",chi)\n",
    "print(\"英文成績=\",eng)\n",
    "print(\"總分=\",tot)\n",
    "print(\"平均=\",avg)\n"
   ]
  },
  {
   "cell_type": "code",
   "execution_count": 45,
   "id": "97824a37",
   "metadata": {},
   "outputs": [
    {
     "name": "stdout",
     "output_type": "stream",
     "text": [
      "國文\t英文\t總分\t平均\n",
      "60 \t 70 \t 130 \t 65.0\n"
     ]
    }
   ],
   "source": [
    "print(\"國文\\t英文\\t總分\\t平均\")\n",
    "print(chi,\"\\t\",eng,\"\\t\",tot,\"\\t\",avg)\n"
   ]
  },
  {
   "cell_type": "code",
   "execution_count": 51,
   "id": "044542af",
   "metadata": {},
   "outputs": [
    {
     "name": "stdout",
     "output_type": "stream",
     "text": [
      "請輸入年紀:10\n",
      "未成年\n"
     ]
    }
   ],
   "source": [
    "age=int(input(\"請輸入年紀:\"))\n",
    "if age>20:\n",
    "    print(\"成年\")\n",
    "else:\n",
    "    print(\"未成年\")"
   ]
  }
 ],
 "metadata": {
  "kernelspec": {
   "display_name": "Python 3 (ipykernel)",
   "language": "python",
   "name": "python3"
  },
  "language_info": {
   "codemirror_mode": {
    "name": "ipython",
    "version": 3
   },
   "file_extension": ".py",
   "mimetype": "text/x-python",
   "name": "python",
   "nbconvert_exporter": "python",
   "pygments_lexer": "ipython3",
   "version": "3.7.11"
  }
 },
 "nbformat": 4,
 "nbformat_minor": 5
}
