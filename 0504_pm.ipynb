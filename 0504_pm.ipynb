{
 "cells": [
  {
   "cell_type": "code",
   "execution_count": null,
   "id": "ae27cb15",
   "metadata": {},
   "outputs": [],
   "source": [
    "#continue\n",
    "#break\n",
    "i=1\n",
    "while i<=5:\n",
    "    print(i)\n"
   ]
  },
  {
   "cell_type": "code",
   "execution_count": 1,
   "id": "2a4805e9",
   "metadata": {},
   "outputs": [
    {
     "name": "stdout",
     "output_type": "stream",
     "text": [
      "1\n",
      "2\n",
      "3\n",
      "4\n",
      "5\n"
     ]
    }
   ],
   "source": [
    "i=1\n",
    "while True:\n",
    "    print(i)\n",
    "    i=i+1\n",
    "    if (i==6):\n",
    "        break\n",
    "    "
   ]
  },
  {
   "cell_type": "code",
   "execution_count": 3,
   "id": "a09bfdd7",
   "metadata": {},
   "outputs": [
    {
     "name": "stdout",
     "output_type": "stream",
     "text": [
      "請輸入一數(0結束)5\n",
      "請輸入一數(0結束)9\n",
      "請輸入一數(0結束)4\n",
      "請輸入一數(0結束)8\n",
      "請輸入一數(0結束)0\n"
     ]
    }
   ],
   "source": [
    "while True:\n",
    "    a=int(input(\"請輸入一數(0結束)\"))\n",
    "    if a==0:\n",
    "        break\n",
    "    else:\n",
    "        "
   ]
  },
  {
   "cell_type": "code",
   "execution_count": 6,
   "id": "376427aa",
   "metadata": {},
   "outputs": [
    {
     "name": "stdout",
     "output_type": "stream",
     "text": [
      "請輸入年紀(0結束)23\n",
      "請輸入年紀(0結束)55\n",
      "請輸入年紀(0結束)90\n",
      "請輸入年紀(0結束)45\n",
      "請輸入年紀(0結束)23\n",
      "請輸入年紀(0結束)12\n",
      "請輸入年紀(0結束)0\n",
      "最大年齡: 90\n",
      "最小年齡: 12\n"
     ]
    }
   ],
   "source": [
    "largest=-1\n",
    "smallest=200\n",
    "while True:\n",
    "    age=int(input(\"請輸入年紀(0結束)\"))\n",
    "    if age==0:\n",
    "        break\n",
    "    else:\n",
    "        if age>largest:\n",
    "            largest=age\n",
    "        if age<smallest:\n",
    "            smallest=age\n",
    "print(\"最大年齡:\",largest)\n",
    "print(\"最小年齡:\",smallest)"
   ]
  },
  {
   "cell_type": "code",
   "execution_count": 28,
   "id": "817fc44d",
   "metadata": {},
   "outputs": [
    {
     "name": "stdout",
     "output_type": "stream",
     "text": [
      "[10, 30, 20, 40]\n",
      "20\n",
      "10\n",
      "30\n",
      "20\n",
      "40\n",
      "ABC\n",
      "mary\n"
     ]
    }
   ],
   "source": [
    "#list\n",
    "L=[10,30,20,40]\n",
    "print(L)\n",
    "print(L[2])\n",
    "for i in range (0,4):  #i這裡控制位置\n",
    "    print(L[i])\n",
    "L=['ABC',156,45,True]\n",
    "print(L[0])\n",
    "L=[['john',25,170],['mary',20,150],['hh',30,180]]\n",
    "L=[['john',25,170],\n",
    "   ['mary',20,150],\n",
    "   ['hh',30,180]]\n",
    "print(L[1][0])\n"
   ]
  },
  {
   "cell_type": "code",
   "execution_count": 30,
   "id": "77c98421",
   "metadata": {},
   "outputs": [
    {
     "name": "stdout",
     "output_type": "stream",
     "text": [
      "john先生/小姐\t25歲\t170cm\t\n",
      "mary先生/小姐\t20歲\t150cm\t\n",
      "hh先生/小姐\t30歲\t180cm\t\n"
     ]
    }
   ],
   "source": [
    "L=[['john',25,170],\n",
    "   ['mary',20,150],\n",
    "   ['hh',30,180]]\n",
    "for i in range (0,3):\n",
    "    for j in range(0,3):\n",
    "        out=L[i][j]\n",
    "        if j==0:\n",
    "            out=out+\"先生/小姐\"\n",
    "        elif j==1:\n",
    "            out=str(out)+\"歲\"\n",
    "        else j==2:\n",
    "            out=str(out)+\"cm\"\n",
    "        print(out,end=\"\\t\")\n",
    "    print()"
   ]
  },
  {
   "cell_type": "code",
   "execution_count": 33,
   "id": "febc344b",
   "metadata": {},
   "outputs": [
    {
     "name": "stdout",
     "output_type": "stream",
     "text": [
      "張三先生\t20歲\t170cm\t\n",
      "李四小姐\t30歲\t180cm\t\n",
      "王五小姐\t25歲\t165cm\t\n",
      "陳六先生\t45歲\t168cm\t\n"
     ]
    }
   ],
   "source": [
    "M=['先生/小姐','歲','cm']\n",
    "L=[['張三',20,170,True],\n",
    "   ['李四',30,180,False],\n",
    "   ['王五',25,165,False],\n",
    "   ['陳六',45,168,True]]\n",
    "for i in range(0,4):\n",
    "    for j in range(0,3):\n",
    "        out=L[i][j]\n",
    "        if j==0:\n",
    "            if L[i][3]:\n",
    "                out=out+\"先生\"\n",
    "            else:\n",
    "                out=out+\"小姐\"        \n",
    "        else:\n",
    "            out=str(out)+M[j]\n",
    "        print(out,end=\"\\t\")\n",
    "    print()"
   ]
  },
  {
   "cell_type": "code",
   "execution_count": 40,
   "id": "8cec5985",
   "metadata": {},
   "outputs": [
    {
     "name": "stdout",
     "output_type": "stream",
     "text": [
      "10\n",
      "20\n",
      "30\n",
      "40\n",
      "50\n",
      "60\n",
      "70\n"
     ]
    }
   ],
   "source": [
    "L=[10,20,30,40,50,60,70]\n",
    "for i in range(len(L)):\n",
    "    print(L[i])\n"
   ]
  },
  {
   "cell_type": "code",
   "execution_count": 42,
   "id": "17ed03b1",
   "metadata": {},
   "outputs": [
    {
     "name": "stdout",
     "output_type": "stream",
     "text": [
      "['張三', 20, 170, True]\n",
      "張三\n",
      "20\n",
      "170\n",
      "True\n",
      "['李四', 30, 180, False]\n",
      "李四\n",
      "30\n",
      "180\n",
      "False\n",
      "['王五', 25, 165, False]\n",
      "王五\n",
      "25\n",
      "165\n",
      "False\n",
      "['陳六', 45, 168, True]\n",
      "陳六\n",
      "45\n",
      "168\n",
      "True\n"
     ]
    }
   ],
   "source": [
    "L=[['張三',20,170,True],\n",
    "   ['李四',30,180,False],\n",
    "   ['王五',25,165,False],\n",
    "   ['陳六',45,168,True]]\n",
    "for i in range(len(L)):\n",
    "    print(L[i])\n",
    "    for j in range (len(L[i])):\n",
    "        print(L[i][j])"
   ]
  },
  {
   "cell_type": "code",
   "execution_count": 43,
   "id": "1c2d8a8a",
   "metadata": {},
   "outputs": [
    {
     "name": "stdout",
     "output_type": "stream",
     "text": [
      "10\t20\t30\t40\t"
     ]
    }
   ],
   "source": [
    "L=[10,20,30,40]\n",
    "for a in L:\n",
    "    print(a,end=\"\\t\")"
   ]
  },
  {
   "cell_type": "code",
   "execution_count": 54,
   "id": "6f634e03",
   "metadata": {},
   "outputs": [
    {
     "name": "stdout",
     "output_type": "stream",
     "text": [
      "張三\n",
      "20\n",
      "170\n",
      "True\n",
      "李四\n",
      "30\n",
      "180\n",
      "False\n",
      "王五\n",
      "25\n",
      "165\n",
      "False\n",
      "陳六\n",
      "45\n",
      "168\n",
      "True\n"
     ]
    }
   ],
   "source": [
    "L=[['張三',20,170,True],\n",
    "   ['李四',30,180,False],\n",
    "   ['王五',25,165,False],\n",
    "   ['陳六',45,168,True]]\n",
    "for x in L:\n",
    "    for y in x:\n",
    "        print(y)"
   ]
  },
  {
   "cell_type": "code",
   "execution_count": 50,
   "id": "709dc893",
   "metadata": {},
   "outputs": [
    {
     "name": "stdout",
     "output_type": "stream",
     "text": [
      "第1次執行的資料是 ['張三', 20, 170, True]\n",
      "第2次執行的資料是 ['李四', 30, 180, False]\n",
      "第3次執行的資料是 ['王五', 25, 165, False]\n",
      "第4次執行的資料是 ['陳六', 45, 168, True]\n"
     ]
    }
   ],
   "source": [
    "L=[['張三',20,170,True],\n",
    "   ['李四',30,180,False],\n",
    "   ['王五',25,165,False],\n",
    "   ['陳六',45,168,True]]\n",
    "for i,a in enumerate(L):    #i:索引值 a:元素 enumerate模擬一個位值\n",
    "    print(\"第\"+str(i+1)+\"次執行的資料是\",a)"
   ]
  },
  {
   "cell_type": "code",
   "execution_count": 52,
   "id": "b811ef45",
   "metadata": {},
   "outputs": [
    {
     "name": "stdout",
     "output_type": "stream",
     "text": [
      "第10次執行的資料是 ['張三', 20, 170, True]\n",
      "第11次執行的資料是 ['李四', 30, 180, False]\n",
      "第12次執行的資料是 ['王五', 25, 165, False]\n",
      "第13次執行的資料是 ['陳六', 45, 168, True]\n"
     ]
    }
   ],
   "source": [
    "L=[['張三',20,170,True],\n",
    "   ['李四',30,180,False],\n",
    "   ['王五',25,165,False],\n",
    "   ['陳六',45,168,True]]\n",
    "for i,a in enumerate(L,10):  #enumerate(容器,索引的起始值)\n",
    "    print(\"第\"+str(i)+\"次執行的資料是\",a)"
   ]
  },
  {
   "cell_type": "code",
   "execution_count": null,
   "id": "ef5edc56",
   "metadata": {},
   "outputs": [],
   "source": [
    "#練\n",
    "L=[['張三',20,170,True],\n",
    "   ['李四',30,180,False],\n",
    "   ['王五',25,165,False],\n",
    "   ['陳六',45,168,True]]\n",
    "for i in range(0,4):\n",
    "    for j in range(0,3):\n",
    "        out=L[i][j]\n",
    "        if j==0:\n",
    "            if L[i][3]:\n",
    "                out=out+\"先生\"\n",
    "            else:\n",
    "                out=out+\"小姐\"        \n",
    "        else:\n",
    "            out=str(out)+M[j]\n",
    "        print(out,end=\"\\t\")\n",
    "    print()"
   ]
  },
  {
   "cell_type": "code",
   "execution_count": 56,
   "id": "c931a3c7",
   "metadata": {},
   "outputs": [
    {
     "name": "stdout",
     "output_type": "stream",
     "text": [
      "張三先生/小姐\n",
      "年紀: 20 歲\n",
      "身高: 170 cm\n",
      "薪資: 20000 元\n",
      "====================\n",
      "李四先生/小姐\n",
      "年紀: 30 歲\n",
      "身高: 168 cm\n",
      "薪資: 30000 元\n",
      "====================\n",
      "王五先生/小姐\n",
      "年紀: 45 歲\n",
      "身高: 172 cm\n",
      "薪資: 35000 元\n",
      "====================\n",
      "陳六先生/小姐\n",
      "年紀: 42 歲\n",
      "身高: 165 cm\n",
      "薪資: 40000 元\n",
      "====================\n"
     ]
    }
   ],
   "source": [
    "L=['張三','李四','王五','陳六']\n",
    "M=[[20,170,20000],\n",
    "   [30,168,30000],\n",
    "   [45,172,35000],\n",
    "   [42,165,40000]]\n",
    "for i,name in enumerate(L):\n",
    "    print(name+\"先生/小姐:\")\n",
    "    for j,a in enumerate(M[i]):\n",
    "        if j==0:\n",
    "            print(\"年紀:\",a,\"歲\")\n",
    "        elif j==1:\n",
    "            print(\"身高:\",a,\"cm\")\n",
    "        else:\n",
    "            print(\"薪資:\",a,\"元\")\n",
    "    print(\"=\"*20)\n",
    "        "
   ]
  },
  {
   "cell_type": "code",
   "execution_count": 63,
   "id": "9e8a5504",
   "metadata": {},
   "outputs": [
    {
     "name": "stdout",
     "output_type": "stream",
     "text": [
      "[20, 30, 40]\n",
      "[30, 40, 50, 60, 70, 80]\n",
      "[10, 20, 30, 40]\n",
      "80\n"
     ]
    }
   ],
   "source": [
    "L=[10,20,30,40,50,60,70,80]\n",
    "print(L[1:4]) #從L[1]到L[3]\n",
    "print(L[2:])  #從L[2]到最後\n",
    "print(L[:4])  #開始到L[3]\n",
    "print(L[-1])  #最後一個"
   ]
  }
 ],
 "metadata": {
  "kernelspec": {
   "display_name": "Python 3 (ipykernel)",
   "language": "python",
   "name": "python3"
  },
  "language_info": {
   "codemirror_mode": {
    "name": "ipython",
    "version": 3
   },
   "file_extension": ".py",
   "mimetype": "text/x-python",
   "name": "python",
   "nbconvert_exporter": "python",
   "pygments_lexer": "ipython3",
   "version": "3.7.11"
  }
 },
 "nbformat": 4,
 "nbformat_minor": 5
}
