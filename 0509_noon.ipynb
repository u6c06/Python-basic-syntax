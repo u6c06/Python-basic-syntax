{
 "cells": [
  {
   "cell_type": "code",
   "execution_count": null,
   "id": "a927d424",
   "metadata": {},
   "outputs": [],
   "source": [
    "class Person:\n",
    "    # 建立一個 constructor，建構函數\n",
    "    # data member 有 name, age\n",
    "    def __init__(self, Uname,Uage):\n",
    "        self.name=Uname\n",
    "        self.age=Uage\n",
    "        print(\"設定初始值，姓名為:\",self.name)\n",
    "        print(\"設定初始值，年紀為:\",self.age)\n",
    "    def update(self, Uname,Uage):\n",
    "        self.name=Uname\n",
    "        self.age=Uage\n",
    "        print(\"=\"*30)\n",
    "    def show(self):\n",
    "        print(\"目前的資料成員查詢如下:\")\n",
    "        print(\"=\"*30)\n",
    "        print(\"姓名:\",self.name)\n",
    "        print(\"年紀:\",self.age)\n",
    "\n",
    "John=Person(\"張三\",29)\n",
    "Mary=Person(\"瑪\n",
    "John=Person(\"張三\",29)\n",
    "Mary=Person(\"瑪莉\",36)\n",
    "John.update(\"張四\",29)\n",
    "John.show()"
   ]
  },
  {
   "cell_type": "code",
   "execution_count": 16,
   "id": "ea195a97",
   "metadata": {},
   "outputs": [
    {
     "name": "stdout",
     "output_type": "stream",
     "text": [
      "姓名: 張三\n",
      "國文成績: 80\n",
      "英文成績: 70\n",
      "總成績: 150\n",
      "平均成績: 75.0\n",
      "==============================\n",
      "姓名: 李四\n",
      "國文成績: 85\n",
      "英文成績: 75\n",
      "總成績: 160\n",
      "平均成績: 80.0\n",
      "==============================\n",
      "姓名修改: 張五\n",
      "國文成績修改: 70\n",
      "英文成績修改: 90\n"
     ]
    }
   ],
   "source": [
    "class Student:\n",
    "    def __init__(self,Uname,Uchi,Ueng):\n",
    "        self.Name=Uname\n",
    "        self.Chi=Uchi\n",
    "        self.Eng=Ueng\n",
    "        print(\"姓名:\",self.Name)\n",
    "        print(\"國文成績:\",self.Chi)\n",
    "        print(\"英文成績:\",self.Eng)\n",
    "        print(\"總成績:\",self.Chi+self.Eng)\n",
    "        print(\"平均成績:\",(self.Chi+self.Eng)/2)\n",
    "        print(\"=\"*30)\n",
    "    def update_name(self,Uname):\n",
    "        self.Name=Uname\n",
    "        print(\"姓名修改:\",self.Name)\n",
    "    def update_chi(self,Uchi):\n",
    "        self.Chi=Uchi\n",
    "        print(\"國文成績修改:\",self.Chi)\n",
    "    def update_eng(self,Ueng):\n",
    "        self.Eng=Ueng\n",
    "        print(\"英文成績修改:\",self.Eng)\n",
    "    def Show(self):\n",
    "        print(\"姓名:\",self.Name)\n",
    "        print(\"國文成績:\",self.Chi)\n",
    "        print(\"英文成績:\",self.Eng)\n",
    "        print(\"總成績:\",self.Tot)\n",
    "        print(\"平均成績:\",self.Avg)\n",
    "John=Student(\"張三\",80,70)\n",
    "Mary=Student(\"李四\",85,75)      \n",
    "John.update_name(\"張五\")\n",
    "John.update_chi(70)\n",
    "John.update_eng(90)"
   ]
  },
  {
   "cell_type": "code",
   "execution_count": 45,
   "id": "a1bf3041",
   "metadata": {},
   "outputs": [
    {
     "name": "stdout",
     "output_type": "stream",
     "text": [
      "['張三,20,30000,男\\n', '李四,25,36000,女\\n', '王五,28,31000,女\\n', '陳六,35,40000,男']\n",
      "['張三,20,30000,男', '李四,25,36000,女', '王五,28,31000,女', '陳六,35,40000,男']\n",
      "[['張三', '20', '30000', '男'], ['李四', '25', '36000', '女'], ['王五', '28', '31000', '女'], ['陳六', '35', '40000', '男']]\n"
     ]
    }
   ],
   "source": [
    "# 檔案的讀取\n",
    "# with open(檔名,讀/寫/新增,編碼方式) as 綽號:\n",
    "#     List 變數(記憶體)=檔案綽號.readlines() \n",
    "# 上面指令會將檔案的每一行資料，看成一個元素，放入 list 中\n",
    "with open(\"C:/Users/u6c060507/1pratice/test.txt\",\"r\",encoding=\"UTF-8\") as myFile:\n",
    "    Persons=myFile.readlines()\n",
    "print(Persons)\n",
    "L=[]\n",
    "for person in Persons:\n",
    "    L.append(person.strip())\n",
    "print(L)\n",
    "M=[person.split(\",\") for person in L]\n",
    "print(M)  "
   ]
  },
  {
   "cell_type": "code",
   "execution_count": 44,
   "id": "35a9bd3a",
   "metadata": {},
   "outputs": [
    {
     "name": "stdout",
     "output_type": "stream",
     "text": [
      "張三,20,30000,男\n",
      "李四,25,36000,女\n",
      "王五,28,31000,女\n",
      "陳六,35,40000,男\n",
      "[['張三', '20', '30000', '男'], ['李四', '25', '36000', '女'], ['王五', '28', '31000', '女'], ['陳六', '35', '40000', '男']]\n"
     ]
    }
   ],
   "source": [
    "with open(\"C:/Users/u6c060507/1pratice/test.txt\",\"r\",encoding=\"UTF-8\") as myFile:\n",
    "    Persons=myFile.read()\n",
    "print(Persons)\n",
    "#1\n",
    "\n",
    "#2\n",
    "M=[person.split(',') for person in Persons.split('\\n')]\n",
    "print(M)"
   ]
  },
  {
   "cell_type": "code",
   "execution_count": 40,
   "id": "44b4e662",
   "metadata": {},
   "outputs": [
    {
     "name": "stdout",
     "output_type": "stream",
     "text": [
      "['test1.txt', 'test2.txt']\n",
      "['張三\\n', '李四\\n', '王五']\n",
      "['陳六\\n', '趙七\\n', '潘八']\n"
     ]
    }
   ],
   "source": [
    "# 準備: c:/Practice/ 準備好了 test1.txt, test2.txt\n",
    "# 希望一口氣把該資料夾內的檔案都讀出\n",
    "import os\n",
    "Files=[]\n",
    "Files=os.listdir(\"C:/Users/u6c060507/1pratice/practice\")\n",
    "print(Files)\n",
    "for file in Files:\n",
    "    with open(\"C:/Users/u6c060507/1pratice/practice/\"+file,'r',encoding=\"UTF-8\") as myFile:\n",
    "        L=myFile.readlines()\n",
    "        print(L)"
   ]
  },
  {
   "cell_type": "code",
   "execution_count": null,
   "id": "de0436cc",
   "metadata": {},
   "outputs": [],
   "source": [
    "# !pip install pandas\n",
    "import pandas as pd\n",
    "# pandas 提供函數 read_csv(路徑與檔名,編碼)便可將 csv 檔讀出到 df 物件\n",
    "df=pd.read_csv(\"C:/Practice/test.csv\",encoding='big5')\n",
    "# df.shape 取出資料的形狀\n",
    "# df.values 提取出所有的資料\n",
    "print(df.shape)\n",
    "Persons=df.values\n",
    "\n",
    "for i in range(len(Persons)):\n",
    "    print(Persons[i])\n",
    "    for d in Persons[i]:\n",
    "        print(d)\n"
   ]
  },
  {
   "cell_type": "code",
   "execution_count": null,
   "id": "2681224b",
   "metadata": {},
   "outputs": [],
   "source": [
    "# !pip install pandas\n",
    "import pandas as pd\n",
    "# pandas 提供函數 read_csv(路徑與檔名,編碼)便可將 csv 檔讀出到 df 物件\n",
    "df=pd.read_csv(\"C:/Practice/test.csv\",encoding='big5')\n",
    "# df.shape 取出資料的形狀\n",
    "# df.values 提取出所有的資料\n",
    "print(df.shape)\n",
    "Persons=df.values\n",
    "\n",
    "for person in Persons:\n",
    "    print(person)\n",
    "    for item in person:\n",
    "        print(item)"
   ]
  }
 ],
 "metadata": {
  "kernelspec": {
   "display_name": "Python 3 (ipykernel)",
   "language": "python",
   "name": "python3"
  },
  "language_info": {
   "codemirror_mode": {
    "name": "ipython",
    "version": 3
   },
   "file_extension": ".py",
   "mimetype": "text/x-python",
   "name": "python",
   "nbconvert_exporter": "python",
   "pygments_lexer": "ipython3",
   "version": "3.7.11"
  }
 },
 "nbformat": 4,
 "nbformat_minor": 5
}
