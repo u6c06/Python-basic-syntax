{
 "cells": [
  {
   "cell_type": "code",
   "execution_count": null,
   "id": "0c057f6d",
   "metadata": {},
   "outputs": [],
   "source": [
    "#HW\n",
    "S=\"I am a student. I am learning Python now. I am very happy. You are very good\"\n",
    "\n",
    "寫一個程式，依單字出現的頻率，排序，輸出如下:\n",
    "I 出現 4 次\n",
    "am 出現 4 次\n",
    "very 出現 2 次\n",
    "...\n",
    "Policy (Algorithm,演算法):\n",
    "1. 將單字轉到 list L, 只留英文\n",
    "2. 去掉 list 中重覆出現的單字 (list==>set, set==>list)\n",
    "3. 用另一個 list C 來記錄每個單字出現在 list L 中的次數 \n",
    "4. 將 C 內的元素，依大小排序，對調時，英文單字也要跟著對調之.\n",
    "5. 輸出"
   ]
  },
  {
   "cell_type": "code",
   "execution_count": 1,
   "id": "6d18d09d",
   "metadata": {},
   "outputs": [
    {
     "name": "stdout",
     "output_type": "stream",
     "text": [
      "['I', 'am', 'a', 'student', 'I', 'am', 'learning', 'Python', 'now', 'I', 'am', 'very', 'happy', 'You', 'are', 'very', 'good']\n",
      "{'I', 'now', 'learning', 'am', 'happy', 'very', 'are', 'You', 'student', 'good', 'a', 'Python'}\n",
      "['I', 'now', 'learning', 'am', 'happy', 'very', 'are', 'You', 'student', 'good', 'a', 'Python']\n",
      "[3, 1, 1, 3, 1, 2, 1, 1, 1, 1, 1, 1]\n",
      "12\n",
      "I 出現 3 次\n",
      "am 出現 3 次\n",
      "very 出現 2 次\n",
      "now 出現 1 次\n",
      "happy 出現 1 次\n",
      "learning 出現 1 次\n",
      "are 出現 1 次\n",
      "You 出現 1 次\n",
      "student 出現 1 次\n",
      "good 出現 1 次\n",
      "a 出現 1 次\n",
      "Python 出現 1 次\n"
     ]
    }
   ],
   "source": [
    "S=\"I am a student. I am learning Python now. I am very happy. You are very good\"\n",
    "Exclude=\".\"\n",
    "T=\"\"\n",
    "for s in S:\n",
    "    if s not in Exclude:\n",
    "        T=T+s\n",
    "        L=T.split(\" \")\n",
    "print(L)\n",
    "S=set(L)\n",
    "print(S)\n",
    "M=list(S)\n",
    "print(M)\n",
    "C=[]\n",
    "for m in M:\n",
    "    C.append(L.count(m))\n",
    "print(C)\n",
    "print(len(C))\n",
    "for i in range(0,12):\n",
    "    for j in range(i+1,12):\n",
    "        if C[j]>C[i]:\n",
    "            C[i],C[j]=C[j],C[i]\n",
    "            M[i],M[j]=M[j],M[i]\n",
    "for x,M in enumerate(M):\n",
    "    print(M,\"出現\",C[x],\"次\")"
   ]
  }
 ],
 "metadata": {
  "kernelspec": {
   "display_name": "Python 3 (ipykernel)",
   "language": "python",
   "name": "python3"
  },
  "language_info": {
   "codemirror_mode": {
    "name": "ipython",
    "version": 3
   },
   "file_extension": ".py",
   "mimetype": "text/x-python",
   "name": "python",
   "nbconvert_exporter": "python",
   "pygments_lexer": "ipython3",
   "version": "3.7.11"
  }
 },
 "nbformat": 4,
 "nbformat_minor": 5
}
